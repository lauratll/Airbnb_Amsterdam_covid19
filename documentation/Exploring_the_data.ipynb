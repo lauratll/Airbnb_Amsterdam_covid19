{
 "cells": [
  {
   "cell_type": "markdown",
   "id": "e79ef877",
   "metadata": {
    "toc": true
   },
   "source": [
    "<h1>Table of Contents<span class=\"tocSkip\"></span></h1>\n",
    "<div class=\"toc\"><ul class=\"toc-item\"><li><span><a href=\"#Exploring-the-data-sets\" data-toc-modified-id=\"Exploring-the-data-sets-1\">Exploring the data sets</a></span></li><li><span><a href=\"#1.-Listings\" data-toc-modified-id=\"1.-Listings-2\">1. Listings</a></span><ul class=\"toc-item\"><li><span><a href=\"#1.1-Listings-April-2020\" data-toc-modified-id=\"1.1-Listings-April-2020-2.1\">1.1 Listings April 2020</a></span></li><li><span><a href=\"#1.2-Listings-April-2021\" data-toc-modified-id=\"1.2-Listings-April-2021-2.2\">1.2 Listings April 2021</a></span></li><li><span><a href=\"#1.3.-Listings-dec-2018\" data-toc-modified-id=\"1.3.-Listings-dec-2018-2.3\">1.3. Listings dec 2018</a></span></li><li><span><a href=\"#1.4.-Listings-dec-2020\" data-toc-modified-id=\"1.4.-Listings-dec-2020-2.4\">1.4. Listings dec 2020</a></span></li><li><span><a href=\"#1.4.-Comparing-the-listings\" data-toc-modified-id=\"1.4.-Comparing-the-listings-2.5\">1.4. Comparing the listings</a></span></li></ul></li><li><span><a href=\"#2.-Reviews\" data-toc-modified-id=\"2.-Reviews-3\">2. Reviews</a></span><ul class=\"toc-item\"><li><span><a href=\"#2.1.-April-2021\" data-toc-modified-id=\"2.1.-April-2021-3.1\">2.1. April 2021</a></span></li></ul></li><li><span><a href=\"#3.-Calendar\" data-toc-modified-id=\"3.-Calendar-4\">3. Calendar</a></span><ul class=\"toc-item\"><li><span><a href=\"#3.1.-Calendar-2020-2021\" data-toc-modified-id=\"3.1.-Calendar-2020-2021-4.1\">3.1. Calendar 2020-2021</a></span></li><li><span><a href=\"#3.2.-Calendar-2019\" data-toc-modified-id=\"3.2.-Calendar-2019-4.2\">3.2. Calendar 2019</a></span></li></ul></li><li><span><a href=\"#4.Green-areas-Amsterdam-data\" data-toc-modified-id=\"4.Green-areas-Amsterdam-data-5\">4.Green areas Amsterdam data</a></span></li><li><span><a href=\"#5.-Safety-areas-Amsterdam-data\" data-toc-modified-id=\"5.-Safety-areas-Amsterdam-data-6\">5. Safety areas Amsterdam data</a></span></li></ul></div>"
   ]
  },
  {
   "cell_type": "markdown",
   "id": "c677d4e2",
   "metadata": {},
   "source": [
    "# Exploring the data sets"
   ]
  },
  {
   "cell_type": "markdown",
   "id": "7d9aad72",
   "metadata": {},
   "source": [
    "# 1. Listings"
   ]
  },
  {
   "cell_type": "markdown",
   "id": "52a5f96b",
   "metadata": {},
   "source": [
    "## 1.1 Listings April 2020"
   ]
  },
  {
   "cell_type": "code",
   "execution_count": 2,
   "id": "aef894bb",
   "metadata": {},
   "outputs": [],
   "source": [
    "import pandas as pd\n",
    "import numpy as np"
   ]
  },
  {
   "cell_type": "code",
   "execution_count": 113,
   "id": "19fa81e9",
   "metadata": {},
   "outputs": [],
   "source": [
    "listings_april_20 = pd.read_csv(\"../data/listing_april_20.csv\")"
   ]
  },
  {
   "cell_type": "code",
   "execution_count": 114,
   "id": "9c95dd39",
   "metadata": {},
   "outputs": [
    {
     "data": {
      "text/html": [
       "<div>\n",
       "<style scoped>\n",
       "    .dataframe tbody tr th:only-of-type {\n",
       "        vertical-align: middle;\n",
       "    }\n",
       "\n",
       "    .dataframe tbody tr th {\n",
       "        vertical-align: top;\n",
       "    }\n",
       "\n",
       "    .dataframe thead th {\n",
       "        text-align: right;\n",
       "    }\n",
       "</style>\n",
       "<table border=\"1\" class=\"dataframe\">\n",
       "  <thead>\n",
       "    <tr style=\"text-align: right;\">\n",
       "      <th></th>\n",
       "      <th>id</th>\n",
       "      <th>name</th>\n",
       "      <th>host_id</th>\n",
       "      <th>host_name</th>\n",
       "      <th>neighbourhood_group</th>\n",
       "      <th>neighbourhood</th>\n",
       "      <th>latitude</th>\n",
       "      <th>longitude</th>\n",
       "      <th>room_type</th>\n",
       "      <th>price</th>\n",
       "      <th>minimum_nights</th>\n",
       "      <th>number_of_reviews</th>\n",
       "      <th>last_review</th>\n",
       "      <th>reviews_per_month</th>\n",
       "      <th>calculated_host_listings_count</th>\n",
       "      <th>availability_365</th>\n",
       "    </tr>\n",
       "  </thead>\n",
       "  <tbody>\n",
       "    <tr>\n",
       "      <th>0</th>\n",
       "      <td>2818</td>\n",
       "      <td>Quiet Garden View Room &amp; Super Fast WiFi</td>\n",
       "      <td>3159</td>\n",
       "      <td>Daniel</td>\n",
       "      <td>NaN</td>\n",
       "      <td>Oostelijk Havengebied - Indische Buurt</td>\n",
       "      <td>52.36575</td>\n",
       "      <td>4.94142</td>\n",
       "      <td>Private room</td>\n",
       "      <td>59</td>\n",
       "      <td>3</td>\n",
       "      <td>278</td>\n",
       "      <td>2020-02-14</td>\n",
       "      <td>2.06</td>\n",
       "      <td>1</td>\n",
       "      <td>169</td>\n",
       "    </tr>\n",
       "    <tr>\n",
       "      <th>1</th>\n",
       "      <td>20168</td>\n",
       "      <td>Studio with private bathroom in the centre 1</td>\n",
       "      <td>59484</td>\n",
       "      <td>Alexander</td>\n",
       "      <td>NaN</td>\n",
       "      <td>Centrum-Oost</td>\n",
       "      <td>52.36509</td>\n",
       "      <td>4.89354</td>\n",
       "      <td>Private room</td>\n",
       "      <td>100</td>\n",
       "      <td>1</td>\n",
       "      <td>340</td>\n",
       "      <td>2020-04-09</td>\n",
       "      <td>2.76</td>\n",
       "      <td>2</td>\n",
       "      <td>106</td>\n",
       "    </tr>\n",
       "    <tr>\n",
       "      <th>2</th>\n",
       "      <td>25428</td>\n",
       "      <td>Lovely apt in City Centre (w.lift) near Jordaan</td>\n",
       "      <td>56142</td>\n",
       "      <td>Joan</td>\n",
       "      <td>NaN</td>\n",
       "      <td>Centrum-West</td>\n",
       "      <td>52.37297</td>\n",
       "      <td>4.88339</td>\n",
       "      <td>Entire home/apt</td>\n",
       "      <td>125</td>\n",
       "      <td>14</td>\n",
       "      <td>5</td>\n",
       "      <td>2020-02-09</td>\n",
       "      <td>0.18</td>\n",
       "      <td>1</td>\n",
       "      <td>132</td>\n",
       "    </tr>\n",
       "    <tr>\n",
       "      <th>3</th>\n",
       "      <td>27886</td>\n",
       "      <td>Romantic, stylish B&amp;B houseboat in canal district</td>\n",
       "      <td>97647</td>\n",
       "      <td>Flip</td>\n",
       "      <td>NaN</td>\n",
       "      <td>Centrum-West</td>\n",
       "      <td>52.38761</td>\n",
       "      <td>4.89188</td>\n",
       "      <td>Private room</td>\n",
       "      <td>155</td>\n",
       "      <td>2</td>\n",
       "      <td>217</td>\n",
       "      <td>2020-03-02</td>\n",
       "      <td>2.15</td>\n",
       "      <td>1</td>\n",
       "      <td>172</td>\n",
       "    </tr>\n",
       "    <tr>\n",
       "      <th>4</th>\n",
       "      <td>28871</td>\n",
       "      <td>Comfortable double room</td>\n",
       "      <td>124245</td>\n",
       "      <td>Edwin</td>\n",
       "      <td>NaN</td>\n",
       "      <td>Centrum-West</td>\n",
       "      <td>52.36719</td>\n",
       "      <td>4.89092</td>\n",
       "      <td>Private room</td>\n",
       "      <td>75</td>\n",
       "      <td>2</td>\n",
       "      <td>332</td>\n",
       "      <td>2020-03-16</td>\n",
       "      <td>2.82</td>\n",
       "      <td>3</td>\n",
       "      <td>210</td>\n",
       "    </tr>\n",
       "  </tbody>\n",
       "</table>\n",
       "</div>"
      ],
      "text/plain": [
       "      id                                               name  host_id  \\\n",
       "0   2818           Quiet Garden View Room & Super Fast WiFi     3159   \n",
       "1  20168       Studio with private bathroom in the centre 1    59484   \n",
       "2  25428    Lovely apt in City Centre (w.lift) near Jordaan    56142   \n",
       "3  27886  Romantic, stylish B&B houseboat in canal district    97647   \n",
       "4  28871                            Comfortable double room   124245   \n",
       "\n",
       "   host_name  neighbourhood_group                           neighbourhood  \\\n",
       "0     Daniel                  NaN  Oostelijk Havengebied - Indische Buurt   \n",
       "1  Alexander                  NaN                            Centrum-Oost   \n",
       "2       Joan                  NaN                            Centrum-West   \n",
       "3       Flip                  NaN                            Centrum-West   \n",
       "4      Edwin                  NaN                            Centrum-West   \n",
       "\n",
       "   latitude  longitude        room_type  price  minimum_nights  \\\n",
       "0  52.36575    4.94142     Private room     59               3   \n",
       "1  52.36509    4.89354     Private room    100               1   \n",
       "2  52.37297    4.88339  Entire home/apt    125              14   \n",
       "3  52.38761    4.89188     Private room    155               2   \n",
       "4  52.36719    4.89092     Private room     75               2   \n",
       "\n",
       "   number_of_reviews last_review  reviews_per_month  \\\n",
       "0                278  2020-02-14               2.06   \n",
       "1                340  2020-04-09               2.76   \n",
       "2                  5  2020-02-09               0.18   \n",
       "3                217  2020-03-02               2.15   \n",
       "4                332  2020-03-16               2.82   \n",
       "\n",
       "   calculated_host_listings_count  availability_365  \n",
       "0                               1               169  \n",
       "1                               2               106  \n",
       "2                               1               132  \n",
       "3                               1               172  \n",
       "4                               3               210  "
      ]
     },
     "execution_count": 114,
     "metadata": {},
     "output_type": "execute_result"
    }
   ],
   "source": [
    "listings_april_20.head()"
   ]
  },
  {
   "cell_type": "markdown",
   "id": "9a11e576",
   "metadata": {},
   "source": [
    "## 1.2 Listings April 2021"
   ]
  },
  {
   "cell_type": "code",
   "execution_count": 115,
   "id": "2abe72e5",
   "metadata": {},
   "outputs": [],
   "source": [
    "listings_april_21 = pd.read_csv(\"../data/listings_april_21.csv\")"
   ]
  },
  {
   "cell_type": "code",
   "execution_count": 116,
   "id": "3f9b5190",
   "metadata": {},
   "outputs": [
    {
     "data": {
      "text/html": [
       "<div>\n",
       "<style scoped>\n",
       "    .dataframe tbody tr th:only-of-type {\n",
       "        vertical-align: middle;\n",
       "    }\n",
       "\n",
       "    .dataframe tbody tr th {\n",
       "        vertical-align: top;\n",
       "    }\n",
       "\n",
       "    .dataframe thead th {\n",
       "        text-align: right;\n",
       "    }\n",
       "</style>\n",
       "<table border=\"1\" class=\"dataframe\">\n",
       "  <thead>\n",
       "    <tr style=\"text-align: right;\">\n",
       "      <th></th>\n",
       "      <th>id</th>\n",
       "      <th>name</th>\n",
       "      <th>host_id</th>\n",
       "      <th>host_name</th>\n",
       "      <th>neighbourhood_group</th>\n",
       "      <th>neighbourhood</th>\n",
       "      <th>latitude</th>\n",
       "      <th>longitude</th>\n",
       "      <th>room_type</th>\n",
       "      <th>price</th>\n",
       "      <th>minimum_nights</th>\n",
       "      <th>number_of_reviews</th>\n",
       "      <th>last_review</th>\n",
       "      <th>reviews_per_month</th>\n",
       "      <th>calculated_host_listings_count</th>\n",
       "      <th>availability_365</th>\n",
       "    </tr>\n",
       "  </thead>\n",
       "  <tbody>\n",
       "    <tr>\n",
       "      <th>0</th>\n",
       "      <td>2818</td>\n",
       "      <td>Quiet Garden View Room &amp; Super Fast WiFi</td>\n",
       "      <td>3159</td>\n",
       "      <td>Daniel</td>\n",
       "      <td>NaN</td>\n",
       "      <td>Oostelijk Havengebied - Indische Buurt</td>\n",
       "      <td>52.36435</td>\n",
       "      <td>4.94358</td>\n",
       "      <td>Private room</td>\n",
       "      <td>59</td>\n",
       "      <td>3</td>\n",
       "      <td>278</td>\n",
       "      <td>2020-02-14</td>\n",
       "      <td>1.90</td>\n",
       "      <td>1</td>\n",
       "      <td>152</td>\n",
       "    </tr>\n",
       "    <tr>\n",
       "      <th>1</th>\n",
       "      <td>20168</td>\n",
       "      <td>Studio with private bathroom in the centre 1</td>\n",
       "      <td>59484</td>\n",
       "      <td>Alexander</td>\n",
       "      <td>NaN</td>\n",
       "      <td>Centrum-Oost</td>\n",
       "      <td>52.36407</td>\n",
       "      <td>4.89393</td>\n",
       "      <td>Private room</td>\n",
       "      <td>200</td>\n",
       "      <td>1</td>\n",
       "      <td>339</td>\n",
       "      <td>2020-04-09</td>\n",
       "      <td>2.50</td>\n",
       "      <td>2</td>\n",
       "      <td>0</td>\n",
       "    </tr>\n",
       "    <tr>\n",
       "      <th>2</th>\n",
       "      <td>25428</td>\n",
       "      <td>Lovely, 1 bed apt in Ctr (w.lift) -3/20-6/20(f...</td>\n",
       "      <td>56142</td>\n",
       "      <td>Joan</td>\n",
       "      <td>NaN</td>\n",
       "      <td>Centrum-West</td>\n",
       "      <td>52.37490</td>\n",
       "      <td>4.88487</td>\n",
       "      <td>Entire home/apt</td>\n",
       "      <td>125</td>\n",
       "      <td>14</td>\n",
       "      <td>5</td>\n",
       "      <td>2020-02-09</td>\n",
       "      <td>0.13</td>\n",
       "      <td>2</td>\n",
       "      <td>132</td>\n",
       "    </tr>\n",
       "    <tr>\n",
       "      <th>3</th>\n",
       "      <td>27886</td>\n",
       "      <td>Romantic, stylish B&amp;B houseboat in canal district</td>\n",
       "      <td>97647</td>\n",
       "      <td>Flip</td>\n",
       "      <td>NaN</td>\n",
       "      <td>Centrum-West</td>\n",
       "      <td>52.38761</td>\n",
       "      <td>4.89188</td>\n",
       "      <td>Private room</td>\n",
       "      <td>141</td>\n",
       "      <td>2</td>\n",
       "      <td>219</td>\n",
       "      <td>2020-07-25</td>\n",
       "      <td>1.94</td>\n",
       "      <td>1</td>\n",
       "      <td>66</td>\n",
       "    </tr>\n",
       "    <tr>\n",
       "      <th>4</th>\n",
       "      <td>28871</td>\n",
       "      <td>Comfortable double room</td>\n",
       "      <td>124245</td>\n",
       "      <td>Edwin</td>\n",
       "      <td>NaN</td>\n",
       "      <td>Centrum-West</td>\n",
       "      <td>52.36775</td>\n",
       "      <td>4.89092</td>\n",
       "      <td>Private room</td>\n",
       "      <td>75</td>\n",
       "      <td>2</td>\n",
       "      <td>336</td>\n",
       "      <td>2020-09-20</td>\n",
       "      <td>2.59</td>\n",
       "      <td>2</td>\n",
       "      <td>335</td>\n",
       "    </tr>\n",
       "  </tbody>\n",
       "</table>\n",
       "</div>"
      ],
      "text/plain": [
       "      id                                               name  host_id  \\\n",
       "0   2818           Quiet Garden View Room & Super Fast WiFi     3159   \n",
       "1  20168       Studio with private bathroom in the centre 1    59484   \n",
       "2  25428  Lovely, 1 bed apt in Ctr (w.lift) -3/20-6/20(f...    56142   \n",
       "3  27886  Romantic, stylish B&B houseboat in canal district    97647   \n",
       "4  28871                            Comfortable double room   124245   \n",
       "\n",
       "   host_name  neighbourhood_group                           neighbourhood  \\\n",
       "0     Daniel                  NaN  Oostelijk Havengebied - Indische Buurt   \n",
       "1  Alexander                  NaN                            Centrum-Oost   \n",
       "2       Joan                  NaN                            Centrum-West   \n",
       "3       Flip                  NaN                            Centrum-West   \n",
       "4      Edwin                  NaN                            Centrum-West   \n",
       "\n",
       "   latitude  longitude        room_type  price  minimum_nights  \\\n",
       "0  52.36435    4.94358     Private room     59               3   \n",
       "1  52.36407    4.89393     Private room    200               1   \n",
       "2  52.37490    4.88487  Entire home/apt    125              14   \n",
       "3  52.38761    4.89188     Private room    141               2   \n",
       "4  52.36775    4.89092     Private room     75               2   \n",
       "\n",
       "   number_of_reviews last_review  reviews_per_month  \\\n",
       "0                278  2020-02-14               1.90   \n",
       "1                339  2020-04-09               2.50   \n",
       "2                  5  2020-02-09               0.13   \n",
       "3                219  2020-07-25               1.94   \n",
       "4                336  2020-09-20               2.59   \n",
       "\n",
       "   calculated_host_listings_count  availability_365  \n",
       "0                               1               152  \n",
       "1                               2                 0  \n",
       "2                               2               132  \n",
       "3                               1                66  \n",
       "4                               2               335  "
      ]
     },
     "execution_count": 116,
     "metadata": {},
     "output_type": "execute_result"
    }
   ],
   "source": [
    "listings_april_21.head()"
   ]
  },
  {
   "cell_type": "code",
   "execution_count": 124,
   "id": "46441d43",
   "metadata": {},
   "outputs": [
    {
     "name": "stdout",
     "output_type": "stream",
     "text": [
      "<class 'pandas.core.frame.DataFrame'>\n",
      "RangeIndex: 17825 entries, 0 to 17824\n",
      "Data columns (total 16 columns):\n",
      " #   Column                          Non-Null Count  Dtype  \n",
      "---  ------                          --------------  -----  \n",
      " 0   id                              17825 non-null  int64  \n",
      " 1   name                            17793 non-null  object \n",
      " 2   host_id                         17825 non-null  int64  \n",
      " 3   host_name                       17230 non-null  object \n",
      " 4   neighbourhood_group             0 non-null      float64\n",
      " 5   neighbourhood                   17825 non-null  object \n",
      " 6   latitude                        17825 non-null  float64\n",
      " 7   longitude                       17825 non-null  float64\n",
      " 8   room_type                       17825 non-null  object \n",
      " 9   price                           17825 non-null  int64  \n",
      " 10  minimum_nights                  17825 non-null  int64  \n",
      " 11  number_of_reviews               17825 non-null  int64  \n",
      " 12  last_review                     15425 non-null  object \n",
      " 13  reviews_per_month               15425 non-null  float64\n",
      " 14  calculated_host_listings_count  17825 non-null  int64  \n",
      " 15  availability_365                17825 non-null  int64  \n",
      "dtypes: float64(4), int64(7), object(5)\n",
      "memory usage: 2.2+ MB\n"
     ]
    }
   ],
   "source": [
    "listings_april_21.info()"
   ]
  },
  {
   "cell_type": "code",
   "execution_count": 11,
   "id": "d5cdd821",
   "metadata": {},
   "outputs": [],
   "source": []
  },
  {
   "cell_type": "markdown",
   "id": "323407ac",
   "metadata": {},
   "source": [
    "## 1.3. Listings dec 2018"
   ]
  },
  {
   "cell_type": "code",
   "execution_count": 134,
   "id": "08e45dc4",
   "metadata": {},
   "outputs": [],
   "source": [
    "listings_dec_18 = pd.read_csv(\"../data/listings_dec18.csv\")"
   ]
  },
  {
   "cell_type": "code",
   "execution_count": 135,
   "id": "2cc44ce7",
   "metadata": {},
   "outputs": [
    {
     "data": {
      "text/plain": [
       "20030"
      ]
     },
     "execution_count": 135,
     "metadata": {},
     "output_type": "execute_result"
    }
   ],
   "source": [
    "listings_dec_18[\"id\"].nunique()"
   ]
  },
  {
   "cell_type": "code",
   "execution_count": 136,
   "id": "3ce1fb09",
   "metadata": {},
   "outputs": [
    {
     "data": {
      "text/plain": [
       "(20030, 16)"
      ]
     },
     "execution_count": 136,
     "metadata": {},
     "output_type": "execute_result"
    }
   ],
   "source": [
    "listings_dec_18.shape"
   ]
  },
  {
   "cell_type": "markdown",
   "id": "eedb8cef",
   "metadata": {},
   "source": [
    "## 1.4. Listings dec 2020"
   ]
  },
  {
   "cell_type": "code",
   "execution_count": 138,
   "id": "32a54943",
   "metadata": {},
   "outputs": [],
   "source": [
    "listings_dec_20 = pd.read_csv(\"../data/listings_dec20.csv\")"
   ]
  },
  {
   "cell_type": "code",
   "execution_count": 139,
   "id": "09a7c919",
   "metadata": {},
   "outputs": [
    {
     "data": {
      "text/plain": [
       "(18522, 16)"
      ]
     },
     "execution_count": 139,
     "metadata": {},
     "output_type": "execute_result"
    }
   ],
   "source": [
    "listings_dec_20.shape"
   ]
  },
  {
   "cell_type": "code",
   "execution_count": null,
   "id": "5d66e602",
   "metadata": {},
   "outputs": [],
   "source": []
  },
  {
   "cell_type": "markdown",
   "id": "7b7ad9bf",
   "metadata": {},
   "source": [
    "## 1.4. Comparing the listings"
   ]
  },
  {
   "cell_type": "code",
   "execution_count": 143,
   "id": "70a88a7a",
   "metadata": {},
   "outputs": [
    {
     "data": {
      "text/plain": [
       "19362"
      ]
     },
     "execution_count": 143,
     "metadata": {},
     "output_type": "execute_result"
    }
   ],
   "source": [
    "listings_april_20[\"id\"].nunique()"
   ]
  },
  {
   "cell_type": "code",
   "execution_count": 142,
   "id": "a93072b0",
   "metadata": {},
   "outputs": [
    {
     "data": {
      "text/plain": [
       "17825"
      ]
     },
     "execution_count": 142,
     "metadata": {},
     "output_type": "execute_result"
    }
   ],
   "source": [
    "listings_april_21[\"id\"].nunique()"
   ]
  },
  {
   "cell_type": "code",
   "execution_count": 141,
   "id": "ff5ed292",
   "metadata": {},
   "outputs": [
    {
     "data": {
      "text/plain": [
       "18522"
      ]
     },
     "execution_count": 141,
     "metadata": {},
     "output_type": "execute_result"
    }
   ],
   "source": [
    "listings_dec_20[\"id\"].nunique()"
   ]
  },
  {
   "cell_type": "code",
   "execution_count": 140,
   "id": "d1b2bd6c",
   "metadata": {},
   "outputs": [
    {
     "data": {
      "text/plain": [
       "20030"
      ]
     },
     "execution_count": 140,
     "metadata": {},
     "output_type": "execute_result"
    }
   ],
   "source": [
    "listings_dec_18[\"id\"].nunique()"
   ]
  },
  {
   "cell_type": "code",
   "execution_count": null,
   "id": "f722e25c",
   "metadata": {},
   "outputs": [],
   "source": []
  },
  {
   "cell_type": "code",
   "execution_count": null,
   "id": "c3388547",
   "metadata": {},
   "outputs": [],
   "source": []
  },
  {
   "cell_type": "code",
   "execution_count": null,
   "id": "64401524",
   "metadata": {},
   "outputs": [],
   "source": []
  },
  {
   "cell_type": "markdown",
   "id": "226d55ad",
   "metadata": {},
   "source": [
    "# 2. Reviews"
   ]
  },
  {
   "cell_type": "markdown",
   "id": "29759b5b",
   "metadata": {},
   "source": [
    "## 2.1. April 2021"
   ]
  },
  {
   "cell_type": "code",
   "execution_count": 45,
   "id": "baa0598f",
   "metadata": {},
   "outputs": [],
   "source": [
    "reviews= pd.read_csv(\"../data/reviews_april2021.csv\")"
   ]
  },
  {
   "cell_type": "code",
   "execution_count": 46,
   "id": "e8017833",
   "metadata": {},
   "outputs": [
    {
     "name": "stdout",
     "output_type": "stream",
     "text": [
      "<class 'pandas.core.frame.DataFrame'>\n",
      "RangeIndex: 426960 entries, 0 to 426959\n",
      "Data columns (total 2 columns):\n",
      " #   Column      Non-Null Count   Dtype \n",
      "---  ------      --------------   ----- \n",
      " 0   listing_id  426960 non-null  int64 \n",
      " 1   date        426960 non-null  object\n",
      "dtypes: int64(1), object(1)\n",
      "memory usage: 6.5+ MB\n"
     ]
    }
   ],
   "source": [
    "reviews.info()"
   ]
  },
  {
   "cell_type": "code",
   "execution_count": 47,
   "id": "06052ac9",
   "metadata": {},
   "outputs": [
    {
     "data": {
      "text/plain": [
       "'2009-03-30'"
      ]
     },
     "execution_count": 47,
     "metadata": {},
     "output_type": "execute_result"
    }
   ],
   "source": [
    "reviews[\"date\"].min()"
   ]
  },
  {
   "cell_type": "code",
   "execution_count": 48,
   "id": "770eacdf",
   "metadata": {},
   "outputs": [],
   "source": [
    "reviews[\"date\"] = pd.to_datetime(reviews[\"date\"])"
   ]
  },
  {
   "cell_type": "code",
   "execution_count": 49,
   "id": "187e05c3",
   "metadata": {},
   "outputs": [],
   "source": [
    "reviews['year']= reviews[\"date\"].dt.year\n",
    "reviews['month']= reviews[\"date\"].dt.month\n",
    "reviews['day']= reviews[\"date\"].dt.day"
   ]
  },
  {
   "cell_type": "code",
   "execution_count": 50,
   "id": "d09aa1e6",
   "metadata": {},
   "outputs": [],
   "source": [
    "reviews['day_of_week'] = reviews[\"date\"].dt.dayofweek"
   ]
  },
  {
   "cell_type": "code",
   "execution_count": 51,
   "id": "16904c8d",
   "metadata": {},
   "outputs": [],
   "source": [
    "dw_mapping={\n",
    "    0: 'Monday', \n",
    "    1: 'Tuesday', \n",
    "    2: 'Wednesday', \n",
    "    3: 'Thursday', \n",
    "    4: 'Friday',\n",
    "    5: 'Saturday', \n",
    "    6: 'Sunday'\n",
    "} \n",
    "reviews['day_of_week_name']=reviews[\"date\"].dt.weekday.map(dw_mapping)\n"
   ]
  },
  {
   "cell_type": "code",
   "execution_count": 52,
   "id": "e6f796d7",
   "metadata": {},
   "outputs": [
    {
     "data": {
      "text/html": [
       "<div>\n",
       "<style scoped>\n",
       "    .dataframe tbody tr th:only-of-type {\n",
       "        vertical-align: middle;\n",
       "    }\n",
       "\n",
       "    .dataframe tbody tr th {\n",
       "        vertical-align: top;\n",
       "    }\n",
       "\n",
       "    .dataframe thead th {\n",
       "        text-align: right;\n",
       "    }\n",
       "</style>\n",
       "<table border=\"1\" class=\"dataframe\">\n",
       "  <thead>\n",
       "    <tr style=\"text-align: right;\">\n",
       "      <th></th>\n",
       "      <th>listing_id</th>\n",
       "      <th>date</th>\n",
       "      <th>year</th>\n",
       "      <th>month</th>\n",
       "      <th>day</th>\n",
       "      <th>day_of_week</th>\n",
       "      <th>day_of_week_name</th>\n",
       "    </tr>\n",
       "  </thead>\n",
       "  <tbody>\n",
       "    <tr>\n",
       "      <th>0</th>\n",
       "      <td>2818</td>\n",
       "      <td>2009-03-30</td>\n",
       "      <td>2009</td>\n",
       "      <td>3</td>\n",
       "      <td>30</td>\n",
       "      <td>0</td>\n",
       "      <td>Monday</td>\n",
       "    </tr>\n",
       "    <tr>\n",
       "      <th>1</th>\n",
       "      <td>2818</td>\n",
       "      <td>2009-04-24</td>\n",
       "      <td>2009</td>\n",
       "      <td>4</td>\n",
       "      <td>24</td>\n",
       "      <td>4</td>\n",
       "      <td>Friday</td>\n",
       "    </tr>\n",
       "    <tr>\n",
       "      <th>2</th>\n",
       "      <td>2818</td>\n",
       "      <td>2009-05-03</td>\n",
       "      <td>2009</td>\n",
       "      <td>5</td>\n",
       "      <td>3</td>\n",
       "      <td>6</td>\n",
       "      <td>Sunday</td>\n",
       "    </tr>\n",
       "    <tr>\n",
       "      <th>3</th>\n",
       "      <td>2818</td>\n",
       "      <td>2009-05-18</td>\n",
       "      <td>2009</td>\n",
       "      <td>5</td>\n",
       "      <td>18</td>\n",
       "      <td>0</td>\n",
       "      <td>Monday</td>\n",
       "    </tr>\n",
       "    <tr>\n",
       "      <th>4</th>\n",
       "      <td>2818</td>\n",
       "      <td>2009-05-25</td>\n",
       "      <td>2009</td>\n",
       "      <td>5</td>\n",
       "      <td>25</td>\n",
       "      <td>0</td>\n",
       "      <td>Monday</td>\n",
       "    </tr>\n",
       "  </tbody>\n",
       "</table>\n",
       "</div>"
      ],
      "text/plain": [
       "   listing_id       date  year  month  day  day_of_week day_of_week_name\n",
       "0        2818 2009-03-30  2009      3   30            0           Monday\n",
       "1        2818 2009-04-24  2009      4   24            4           Friday\n",
       "2        2818 2009-05-03  2009      5    3            6           Sunday\n",
       "3        2818 2009-05-18  2009      5   18            0           Monday\n",
       "4        2818 2009-05-25  2009      5   25            0           Monday"
      ]
     },
     "execution_count": 52,
     "metadata": {},
     "output_type": "execute_result"
    }
   ],
   "source": [
    "reviews.head()"
   ]
  },
  {
   "cell_type": "code",
   "execution_count": 53,
   "id": "d4f3be1b",
   "metadata": {},
   "outputs": [
    {
     "data": {
      "text/plain": [
       "Timestamp('2009-03-30 00:00:00')"
      ]
     },
     "execution_count": 53,
     "metadata": {},
     "output_type": "execute_result"
    }
   ],
   "source": [
    "reviews[\"date\"].min()"
   ]
  },
  {
   "cell_type": "code",
   "execution_count": 54,
   "id": "f57062fa",
   "metadata": {},
   "outputs": [
    {
     "data": {
      "text/plain": [
       "Timestamp('2021-04-11 00:00:00')"
      ]
     },
     "execution_count": 54,
     "metadata": {},
     "output_type": "execute_result"
    }
   ],
   "source": [
    "reviews[\"date\"].max()"
   ]
  },
  {
   "cell_type": "code",
   "execution_count": 55,
   "id": "9da04f0b",
   "metadata": {},
   "outputs": [],
   "source": [
    "#I have information from the 2009-03-30 till the 2018-12-21"
   ]
  },
  {
   "cell_type": "code",
   "execution_count": null,
   "id": "d42f2157",
   "metadata": {},
   "outputs": [],
   "source": [
    "#In the december 2018 file it starts from the same period, so it is already in this file the info.\n",
    "#We can just obmit the file"
   ]
  },
  {
   "cell_type": "markdown",
   "id": "aab5a768",
   "metadata": {},
   "source": [
    "# 3. Calendar"
   ]
  },
  {
   "cell_type": "markdown",
   "id": "31041d94",
   "metadata": {},
   "source": [
    "## 3.1. Calendar 2020-2021"
   ]
  },
  {
   "cell_type": "code",
   "execution_count": 85,
   "id": "855c16e2",
   "metadata": {},
   "outputs": [],
   "source": [
    "calendar_0720_0721= pd.read_csv(\"../data/calendar_july20_july21.csv\")"
   ]
  },
  {
   "cell_type": "code",
   "execution_count": 86,
   "id": "8facfc47",
   "metadata": {},
   "outputs": [
    {
     "data": {
      "text/html": [
       "<div>\n",
       "<style scoped>\n",
       "    .dataframe tbody tr th:only-of-type {\n",
       "        vertical-align: middle;\n",
       "    }\n",
       "\n",
       "    .dataframe tbody tr th {\n",
       "        vertical-align: top;\n",
       "    }\n",
       "\n",
       "    .dataframe thead th {\n",
       "        text-align: right;\n",
       "    }\n",
       "</style>\n",
       "<table border=\"1\" class=\"dataframe\">\n",
       "  <thead>\n",
       "    <tr style=\"text-align: right;\">\n",
       "      <th></th>\n",
       "      <th>listing_id</th>\n",
       "      <th>date</th>\n",
       "      <th>available</th>\n",
       "      <th>price</th>\n",
       "      <th>adjusted_price</th>\n",
       "      <th>minimum_nights</th>\n",
       "      <th>maximum_nights</th>\n",
       "    </tr>\n",
       "  </thead>\n",
       "  <tbody>\n",
       "    <tr>\n",
       "      <th>0</th>\n",
       "      <td>2833161</td>\n",
       "      <td>2020-07-10</td>\n",
       "      <td>f</td>\n",
       "      <td>$140.00</td>\n",
       "      <td>$140.00</td>\n",
       "      <td>3.0</td>\n",
       "      <td>1125.0</td>\n",
       "    </tr>\n",
       "    <tr>\n",
       "      <th>1</th>\n",
       "      <td>2450249</td>\n",
       "      <td>2020-07-10</td>\n",
       "      <td>f</td>\n",
       "      <td>$285.00</td>\n",
       "      <td>$285.00</td>\n",
       "      <td>2.0</td>\n",
       "      <td>14.0</td>\n",
       "    </tr>\n",
       "    <tr>\n",
       "      <th>2</th>\n",
       "      <td>2450249</td>\n",
       "      <td>2020-07-11</td>\n",
       "      <td>f</td>\n",
       "      <td>$285.00</td>\n",
       "      <td>$285.00</td>\n",
       "      <td>2.0</td>\n",
       "      <td>14.0</td>\n",
       "    </tr>\n",
       "    <tr>\n",
       "      <th>3</th>\n",
       "      <td>2450249</td>\n",
       "      <td>2020-07-12</td>\n",
       "      <td>f</td>\n",
       "      <td>$386.00</td>\n",
       "      <td>$386.00</td>\n",
       "      <td>2.0</td>\n",
       "      <td>14.0</td>\n",
       "    </tr>\n",
       "    <tr>\n",
       "      <th>4</th>\n",
       "      <td>2450249</td>\n",
       "      <td>2020-07-13</td>\n",
       "      <td>f</td>\n",
       "      <td>$225.00</td>\n",
       "      <td>$225.00</td>\n",
       "      <td>2.0</td>\n",
       "      <td>14.0</td>\n",
       "    </tr>\n",
       "  </tbody>\n",
       "</table>\n",
       "</div>"
      ],
      "text/plain": [
       "   listing_id        date available    price adjusted_price  minimum_nights  \\\n",
       "0     2833161  2020-07-10         f  $140.00        $140.00             3.0   \n",
       "1     2450249  2020-07-10         f  $285.00        $285.00             2.0   \n",
       "2     2450249  2020-07-11         f  $285.00        $285.00             2.0   \n",
       "3     2450249  2020-07-12         f  $386.00        $386.00             2.0   \n",
       "4     2450249  2020-07-13         f  $225.00        $225.00             2.0   \n",
       "\n",
       "   maximum_nights  \n",
       "0          1125.0  \n",
       "1            14.0  \n",
       "2            14.0  \n",
       "3            14.0  \n",
       "4            14.0  "
      ]
     },
     "execution_count": 86,
     "metadata": {},
     "output_type": "execute_result"
    }
   ],
   "source": [
    "calendar_0720_0721.head()"
   ]
  },
  {
   "cell_type": "code",
   "execution_count": 87,
   "id": "e3f16578",
   "metadata": {},
   "outputs": [
    {
     "name": "stdout",
     "output_type": "stream",
     "text": [
      "<class 'pandas.core.frame.DataFrame'>\n",
      "RangeIndex: 7099729 entries, 0 to 7099728\n",
      "Data columns (total 7 columns):\n",
      " #   Column          Dtype  \n",
      "---  ------          -----  \n",
      " 0   listing_id      int64  \n",
      " 1   date            object \n",
      " 2   available       object \n",
      " 3   price           object \n",
      " 4   adjusted_price  object \n",
      " 5   minimum_nights  float64\n",
      " 6   maximum_nights  float64\n",
      "dtypes: float64(2), int64(1), object(4)\n",
      "memory usage: 379.2+ MB\n"
     ]
    }
   ],
   "source": [
    "calendar_0720_0721.info()"
   ]
  },
  {
   "cell_type": "code",
   "execution_count": 93,
   "id": "efd88a90",
   "metadata": {},
   "outputs": [],
   "source": [
    "calendar_0720_0721[\"date\"] = pd.to_datetime(calendar_0320_0321[\"date\"])"
   ]
  },
  {
   "cell_type": "code",
   "execution_count": 89,
   "id": "2e9412b3",
   "metadata": {},
   "outputs": [
    {
     "data": {
      "text/plain": [
       "Timestamp('2020-07-09 00:00:00')"
      ]
     },
     "execution_count": 89,
     "metadata": {},
     "output_type": "execute_result"
    }
   ],
   "source": [
    "calendar_0720_0721[\"date\"].min()"
   ]
  },
  {
   "cell_type": "code",
   "execution_count": 90,
   "id": "d0017616",
   "metadata": {},
   "outputs": [
    {
     "data": {
      "text/plain": [
       "Timestamp('2021-07-26 00:00:00')"
      ]
     },
     "execution_count": 90,
     "metadata": {},
     "output_type": "execute_result"
    }
   ],
   "source": [
    "calendar_0720_0721[\"date\"].max()"
   ]
  },
  {
   "cell_type": "code",
   "execution_count": 91,
   "id": "f652fc0a",
   "metadata": {},
   "outputs": [
    {
     "name": "stdout",
     "output_type": "stream",
     "text": [
      "<class 'pandas.core.frame.DataFrame'>\n",
      "RangeIndex: 7099729 entries, 0 to 7099728\n",
      "Data columns (total 7 columns):\n",
      " #   Column          Dtype         \n",
      "---  ------          -----         \n",
      " 0   listing_id      int64         \n",
      " 1   date            datetime64[ns]\n",
      " 2   available       object        \n",
      " 3   price           object        \n",
      " 4   adjusted_price  object        \n",
      " 5   minimum_nights  float64       \n",
      " 6   maximum_nights  float64       \n",
      "dtypes: datetime64[ns](1), float64(2), int64(1), object(3)\n",
      "memory usage: 379.2+ MB\n"
     ]
    }
   ],
   "source": [
    "calendar_0720_0721.info()"
   ]
  },
  {
   "cell_type": "code",
   "execution_count": null,
   "id": "7404d83e",
   "metadata": {},
   "outputs": [],
   "source": [
    "#We have info of the prices from 2020-07-09 till 2021-07-26"
   ]
  },
  {
   "cell_type": "code",
   "execution_count": 79,
   "id": "345ac461",
   "metadata": {},
   "outputs": [],
   "source": [
    "calendar_0320_0321 = pd.read_csv(\"../data/calendar_march20_march21.csv\")"
   ]
  },
  {
   "cell_type": "code",
   "execution_count": 80,
   "id": "37fe788f",
   "metadata": {},
   "outputs": [],
   "source": [
    "calendar_0320_0321[\"date\"] = pd.to_datetime(calendar_0320_0321[\"date\"])"
   ]
  },
  {
   "cell_type": "code",
   "execution_count": 81,
   "id": "73a1440f",
   "metadata": {},
   "outputs": [
    {
     "data": {
      "text/plain": [
       "Timestamp('2020-03-13 00:00:00')"
      ]
     },
     "execution_count": 81,
     "metadata": {},
     "output_type": "execute_result"
    }
   ],
   "source": [
    "calendar_0320_0321[\"date\"].min()"
   ]
  },
  {
   "cell_type": "code",
   "execution_count": 82,
   "id": "924effce",
   "metadata": {},
   "outputs": [
    {
     "data": {
      "text/plain": [
       "Timestamp('2021-03-13 00:00:00')"
      ]
     },
     "execution_count": 82,
     "metadata": {},
     "output_type": "execute_result"
    }
   ],
   "source": [
    "calendar_0320_0321[\"date\"].max()"
   ]
  },
  {
   "cell_type": "code",
   "execution_count": 100,
   "id": "3dbed2a8",
   "metadata": {},
   "outputs": [],
   "source": [
    "calendar_0320_0820 = calendar_0320_0321[calendar_0320_0321[\"date\"] < \"2020-07-09\"]"
   ]
  },
  {
   "cell_type": "code",
   "execution_count": 103,
   "id": "fae55dfa",
   "metadata": {},
   "outputs": [
    {
     "data": {
      "text/plain": [
       "Timestamp('2020-03-13 00:00:00')"
      ]
     },
     "execution_count": 103,
     "metadata": {},
     "output_type": "execute_result"
    }
   ],
   "source": [
    "calendar_0320_0721 = pd.concat([calendar_0320_0820,calendar_0720_0721])\n",
    "calendar_0320_0721[\"date\"].min()"
   ]
  },
  {
   "cell_type": "code",
   "execution_count": 104,
   "id": "1b30c78e",
   "metadata": {},
   "outputs": [
    {
     "data": {
      "text/plain": [
       "Timestamp('2021-07-26 00:00:00')"
      ]
     },
     "execution_count": 104,
     "metadata": {},
     "output_type": "execute_result"
    }
   ],
   "source": [
    "calendar_0320_0721[\"date\"].max()"
   ]
  },
  {
   "cell_type": "code",
   "execution_count": 106,
   "id": "4963044b",
   "metadata": {},
   "outputs": [],
   "source": [
    "calendar_0320_0721['year']= calendar_0320_0721[\"date\"].dt.year\n",
    "calendar_0320_0721['month']= calendar_0320_0721[\"date\"].dt.month\n",
    "calendar_0320_0721['day']= calendar_0320_0721[\"date\"].dt.day\n",
    "calendar_0320_0721['day_of_week'] = calendar_0320_0721[\"date\"].dt.dayofweek\n",
    "\n",
    "dw_mapping={\n",
    "    0: 'Monday', \n",
    "    1: 'Tuesday', \n",
    "    2: 'Wednesday', \n",
    "    3: 'Thursday', \n",
    "    4: 'Friday',\n",
    "    5: 'Saturday', \n",
    "    6: 'Sunday'\n",
    "} \n",
    "calendar_0320_0721['day_of_week']=calendar_0320_0721[\"date\"].dt.weekday.map(dw_mapping)"
   ]
  },
  {
   "cell_type": "code",
   "execution_count": 107,
   "id": "c15c052b",
   "metadata": {},
   "outputs": [
    {
     "data": {
      "text/html": [
       "<div>\n",
       "<style scoped>\n",
       "    .dataframe tbody tr th:only-of-type {\n",
       "        vertical-align: middle;\n",
       "    }\n",
       "\n",
       "    .dataframe tbody tr th {\n",
       "        vertical-align: top;\n",
       "    }\n",
       "\n",
       "    .dataframe thead th {\n",
       "        text-align: right;\n",
       "    }\n",
       "</style>\n",
       "<table border=\"1\" class=\"dataframe\">\n",
       "  <thead>\n",
       "    <tr style=\"text-align: right;\">\n",
       "      <th></th>\n",
       "      <th>listing_id</th>\n",
       "      <th>date</th>\n",
       "      <th>available</th>\n",
       "      <th>price</th>\n",
       "      <th>adjusted_price</th>\n",
       "      <th>minimum_nights</th>\n",
       "      <th>maximum_nights</th>\n",
       "      <th>year</th>\n",
       "      <th>month</th>\n",
       "      <th>day</th>\n",
       "      <th>day_of_week</th>\n",
       "    </tr>\n",
       "  </thead>\n",
       "  <tbody>\n",
       "    <tr>\n",
       "      <th>0</th>\n",
       "      <td>52490</td>\n",
       "      <td>2020-03-14</td>\n",
       "      <td>f</td>\n",
       "      <td>$75.00</td>\n",
       "      <td>$75.00</td>\n",
       "      <td>2.0</td>\n",
       "      <td>80.0</td>\n",
       "      <td>2020</td>\n",
       "      <td>3</td>\n",
       "      <td>14</td>\n",
       "      <td>Saturday</td>\n",
       "    </tr>\n",
       "    <tr>\n",
       "      <th>1</th>\n",
       "      <td>2818</td>\n",
       "      <td>2020-03-14</td>\n",
       "      <td>f</td>\n",
       "      <td>$69.00</td>\n",
       "      <td>$69.00</td>\n",
       "      <td>3.0</td>\n",
       "      <td>1125.0</td>\n",
       "      <td>2020</td>\n",
       "      <td>3</td>\n",
       "      <td>14</td>\n",
       "      <td>Saturday</td>\n",
       "    </tr>\n",
       "    <tr>\n",
       "      <th>2</th>\n",
       "      <td>2818</td>\n",
       "      <td>2020-03-15</td>\n",
       "      <td>t</td>\n",
       "      <td>$69.00</td>\n",
       "      <td>$69.00</td>\n",
       "      <td>3.0</td>\n",
       "      <td>1125.0</td>\n",
       "      <td>2020</td>\n",
       "      <td>3</td>\n",
       "      <td>15</td>\n",
       "      <td>Sunday</td>\n",
       "    </tr>\n",
       "    <tr>\n",
       "      <th>3</th>\n",
       "      <td>2818</td>\n",
       "      <td>2020-03-16</td>\n",
       "      <td>t</td>\n",
       "      <td>$59.00</td>\n",
       "      <td>$59.00</td>\n",
       "      <td>3.0</td>\n",
       "      <td>1125.0</td>\n",
       "      <td>2020</td>\n",
       "      <td>3</td>\n",
       "      <td>16</td>\n",
       "      <td>Monday</td>\n",
       "    </tr>\n",
       "    <tr>\n",
       "      <th>4</th>\n",
       "      <td>2818</td>\n",
       "      <td>2020-03-17</td>\n",
       "      <td>t</td>\n",
       "      <td>$59.00</td>\n",
       "      <td>$59.00</td>\n",
       "      <td>3.0</td>\n",
       "      <td>1125.0</td>\n",
       "      <td>2020</td>\n",
       "      <td>3</td>\n",
       "      <td>17</td>\n",
       "      <td>Tuesday</td>\n",
       "    </tr>\n",
       "  </tbody>\n",
       "</table>\n",
       "</div>"
      ],
      "text/plain": [
       "   listing_id       date available   price adjusted_price  minimum_nights  \\\n",
       "0       52490 2020-03-14         f  $75.00         $75.00             2.0   \n",
       "1        2818 2020-03-14         f  $69.00         $69.00             3.0   \n",
       "2        2818 2020-03-15         t  $69.00         $69.00             3.0   \n",
       "3        2818 2020-03-16         t  $59.00         $59.00             3.0   \n",
       "4        2818 2020-03-17         t  $59.00         $59.00             3.0   \n",
       "\n",
       "   maximum_nights  year  month  day day_of_week  \n",
       "0            80.0  2020      3   14    Saturday  \n",
       "1          1125.0  2020      3   14    Saturday  \n",
       "2          1125.0  2020      3   15      Sunday  \n",
       "3          1125.0  2020      3   16      Monday  \n",
       "4          1125.0  2020      3   17     Tuesday  "
      ]
     },
     "execution_count": 107,
     "metadata": {},
     "output_type": "execute_result"
    }
   ],
   "source": [
    "calendar_0320_0721.head()"
   ]
  },
  {
   "cell_type": "markdown",
   "id": "211b912e",
   "metadata": {},
   "source": [
    "## 3.2. Calendar 2019"
   ]
  },
  {
   "cell_type": "code",
   "execution_count": 105,
   "id": "09524ecb",
   "metadata": {},
   "outputs": [],
   "source": [
    "calendar_1218_1219 = pd.read_csv(\"../data/calendar_dec18_dec19.csv\")"
   ]
  },
  {
   "cell_type": "code",
   "execution_count": 108,
   "id": "7445bc16",
   "metadata": {},
   "outputs": [],
   "source": [
    "calendar_1218_1219 [\"date\"] = pd.to_datetime(calendar_1218_1219 [\"date\"])"
   ]
  },
  {
   "cell_type": "code",
   "execution_count": 109,
   "id": "3d79abbd",
   "metadata": {},
   "outputs": [],
   "source": [
    "calendar_1218_1219['year']= calendar_1218_1219[\"date\"].dt.year\n",
    "calendar_1218_1219['month']= calendar_1218_1219[\"date\"].dt.month\n",
    "calendar_1218_1219['day']= calendar_1218_1219[\"date\"].dt.day\n",
    "calendar_1218_1219['day_of_week'] = calendar_1218_1219[\"date\"].dt.dayofweek\n",
    "\n",
    "dw_mapping={\n",
    "    0: 'Monday', \n",
    "    1: 'Tuesday', \n",
    "    2: 'Wednesday', \n",
    "    3: 'Thursday', \n",
    "    4: 'Friday',\n",
    "    5: 'Saturday', \n",
    "    6: 'Sunday'\n",
    "} \n",
    "calendar_1218_1219['day_of_week']=calendar_1218_1219[\"date\"].dt.weekday.map(dw_mapping)"
   ]
  },
  {
   "cell_type": "code",
   "execution_count": 110,
   "id": "97f8dad9",
   "metadata": {},
   "outputs": [
    {
     "data": {
      "text/html": [
       "<div>\n",
       "<style scoped>\n",
       "    .dataframe tbody tr th:only-of-type {\n",
       "        vertical-align: middle;\n",
       "    }\n",
       "\n",
       "    .dataframe tbody tr th {\n",
       "        vertical-align: top;\n",
       "    }\n",
       "\n",
       "    .dataframe thead th {\n",
       "        text-align: right;\n",
       "    }\n",
       "</style>\n",
       "<table border=\"1\" class=\"dataframe\">\n",
       "  <thead>\n",
       "    <tr style=\"text-align: right;\">\n",
       "      <th></th>\n",
       "      <th>listing_id</th>\n",
       "      <th>date</th>\n",
       "      <th>available</th>\n",
       "      <th>price</th>\n",
       "      <th>year</th>\n",
       "      <th>month</th>\n",
       "      <th>day</th>\n",
       "      <th>day_of_week</th>\n",
       "    </tr>\n",
       "  </thead>\n",
       "  <tbody>\n",
       "    <tr>\n",
       "      <th>0</th>\n",
       "      <td>2818</td>\n",
       "      <td>2019-12-05</td>\n",
       "      <td>f</td>\n",
       "      <td>NaN</td>\n",
       "      <td>2019</td>\n",
       "      <td>12</td>\n",
       "      <td>5</td>\n",
       "      <td>Thursday</td>\n",
       "    </tr>\n",
       "    <tr>\n",
       "      <th>1</th>\n",
       "      <td>73208</td>\n",
       "      <td>2019-08-30</td>\n",
       "      <td>f</td>\n",
       "      <td>NaN</td>\n",
       "      <td>2019</td>\n",
       "      <td>8</td>\n",
       "      <td>30</td>\n",
       "      <td>Friday</td>\n",
       "    </tr>\n",
       "    <tr>\n",
       "      <th>2</th>\n",
       "      <td>73208</td>\n",
       "      <td>2019-08-29</td>\n",
       "      <td>f</td>\n",
       "      <td>NaN</td>\n",
       "      <td>2019</td>\n",
       "      <td>8</td>\n",
       "      <td>29</td>\n",
       "      <td>Thursday</td>\n",
       "    </tr>\n",
       "    <tr>\n",
       "      <th>3</th>\n",
       "      <td>73208</td>\n",
       "      <td>2019-08-28</td>\n",
       "      <td>f</td>\n",
       "      <td>NaN</td>\n",
       "      <td>2019</td>\n",
       "      <td>8</td>\n",
       "      <td>28</td>\n",
       "      <td>Wednesday</td>\n",
       "    </tr>\n",
       "    <tr>\n",
       "      <th>4</th>\n",
       "      <td>73208</td>\n",
       "      <td>2019-08-27</td>\n",
       "      <td>f</td>\n",
       "      <td>NaN</td>\n",
       "      <td>2019</td>\n",
       "      <td>8</td>\n",
       "      <td>27</td>\n",
       "      <td>Tuesday</td>\n",
       "    </tr>\n",
       "  </tbody>\n",
       "</table>\n",
       "</div>"
      ],
      "text/plain": [
       "   listing_id       date available price  year  month  day day_of_week\n",
       "0        2818 2019-12-05         f   NaN  2019     12    5    Thursday\n",
       "1       73208 2019-08-30         f   NaN  2019      8   30      Friday\n",
       "2       73208 2019-08-29         f   NaN  2019      8   29    Thursday\n",
       "3       73208 2019-08-28         f   NaN  2019      8   28   Wednesday\n",
       "4       73208 2019-08-27         f   NaN  2019      8   27     Tuesday"
      ]
     },
     "execution_count": 110,
     "metadata": {},
     "output_type": "execute_result"
    }
   ],
   "source": [
    "calendar_1218_1219.head()"
   ]
  },
  {
   "cell_type": "markdown",
   "id": "61cf45bc",
   "metadata": {},
   "source": []
  },
  {
   "cell_type": "markdown",
   "id": "fd2b203c",
   "metadata": {},
   "source": [
    "# 4.Green areas Amsterdam data"
   ]
  },
  {
   "cell_type": "code",
   "execution_count": 4,
   "id": "508221cb",
   "metadata": {},
   "outputs": [],
   "source": [
    "green_areas = pd.read_csv(\"../data/green_areas_ams.csv\",sep=';' )"
   ]
  },
  {
   "cell_type": "code",
   "execution_count": 56,
   "id": "345926fc",
   "metadata": {},
   "outputs": [
    {
     "data": {
      "text/html": [
       "<div>\n",
       "<style scoped>\n",
       "    .dataframe tbody tr th:only-of-type {\n",
       "        vertical-align: middle;\n",
       "    }\n",
       "\n",
       "    .dataframe tbody tr th {\n",
       "        vertical-align: top;\n",
       "    }\n",
       "\n",
       "    .dataframe thead th {\n",
       "        text-align: right;\n",
       "    }\n",
       "</style>\n",
       "<table border=\"1\" class=\"dataframe\">\n",
       "  <thead>\n",
       "    <tr style=\"text-align: right;\">\n",
       "      <th></th>\n",
       "      <th>OBJECTNUMMER</th>\n",
       "      <th>Stadsdeel</th>\n",
       "      <th>Naam</th>\n",
       "      <th>Stadspark</th>\n",
       "      <th>Oppervlakte_m2</th>\n",
       "      <th>WKT_LNG_LAT</th>\n",
       "      <th>WKT_LAT_LNG</th>\n",
       "      <th>LNG</th>\n",
       "      <th>LAT</th>\n",
       "      <th>Unnamed: 9</th>\n",
       "    </tr>\n",
       "  </thead>\n",
       "  <tbody>\n",
       "    <tr>\n",
       "      <th>0</th>\n",
       "      <td>1</td>\n",
       "      <td>Nieuw-West</td>\n",
       "      <td>Gerbrandypark</td>\n",
       "      <td>N</td>\n",
       "      <td>71578</td>\n",
       "      <td>POLYGON((4.826794 52.379046,4.826812 52.379006...</td>\n",
       "      <td>POLYGON((52.379046 4.826794,52.379006 4.826812...</td>\n",
       "      <td>4.831152</td>\n",
       "      <td>52.377853</td>\n",
       "      <td>NaN</td>\n",
       "    </tr>\n",
       "    <tr>\n",
       "      <th>1</th>\n",
       "      <td>2</td>\n",
       "      <td>Zuid</td>\n",
       "      <td>Park Schinkeleilanden</td>\n",
       "      <td>J</td>\n",
       "      <td>17968</td>\n",
       "      <td>MULTIPOLYGON(((4.850505 52.344519,4.850531 52....</td>\n",
       "      <td>MULTIPOLYGON(((52.344519 4.850505,52.344504 4....</td>\n",
       "      <td>4.850694</td>\n",
       "      <td>52.344821</td>\n",
       "      <td>NaN</td>\n",
       "    </tr>\n",
       "    <tr>\n",
       "      <th>2</th>\n",
       "      <td>3</td>\n",
       "      <td>Zuid</td>\n",
       "      <td>Amstelpark</td>\n",
       "      <td>J</td>\n",
       "      <td>438723</td>\n",
       "      <td>MULTIPOLYGON(((4.890624 52.328765,4.890613 52....</td>\n",
       "      <td>MULTIPOLYGON(((52.328765 4.890624,52.332059 4....</td>\n",
       "      <td>4.894538</td>\n",
       "      <td>52.329253</td>\n",
       "      <td>NaN</td>\n",
       "    </tr>\n",
       "    <tr>\n",
       "      <th>3</th>\n",
       "      <td>4</td>\n",
       "      <td>Zuid</td>\n",
       "      <td>`t Kleine Loopveld</td>\n",
       "      <td>N</td>\n",
       "      <td>166447</td>\n",
       "      <td>MULTIPOLYGON(((4.892119 52.322562,4.892229 52....</td>\n",
       "      <td>MULTIPOLYGON(((52.322562 4.892119,52.322566 4....</td>\n",
       "      <td>4.878960</td>\n",
       "      <td>52.323028</td>\n",
       "      <td>NaN</td>\n",
       "    </tr>\n",
       "    <tr>\n",
       "      <th>4</th>\n",
       "      <td>5</td>\n",
       "      <td>Zuid</td>\n",
       "      <td>Sarphatipark</td>\n",
       "      <td>J</td>\n",
       "      <td>42087</td>\n",
       "      <td>POLYGON((4.898561 52.354808,4.898948 52.354308...</td>\n",
       "      <td>POLYGON((52.354808 4.898561,52.354308 4.898948...</td>\n",
       "      <td>4.896408</td>\n",
       "      <td>52.354402</td>\n",
       "      <td>NaN</td>\n",
       "    </tr>\n",
       "  </tbody>\n",
       "</table>\n",
       "</div>"
      ],
      "text/plain": [
       "   OBJECTNUMMER   Stadsdeel                   Naam Stadspark  Oppervlakte_m2  \\\n",
       "0             1  Nieuw-West          Gerbrandypark         N           71578   \n",
       "1             2        Zuid  Park Schinkeleilanden         J           17968   \n",
       "2             3        Zuid             Amstelpark         J          438723   \n",
       "3             4        Zuid     `t Kleine Loopveld         N          166447   \n",
       "4             5        Zuid           Sarphatipark         J           42087   \n",
       "\n",
       "                                         WKT_LNG_LAT  \\\n",
       "0  POLYGON((4.826794 52.379046,4.826812 52.379006...   \n",
       "1  MULTIPOLYGON(((4.850505 52.344519,4.850531 52....   \n",
       "2  MULTIPOLYGON(((4.890624 52.328765,4.890613 52....   \n",
       "3  MULTIPOLYGON(((4.892119 52.322562,4.892229 52....   \n",
       "4  POLYGON((4.898561 52.354808,4.898948 52.354308...   \n",
       "\n",
       "                                         WKT_LAT_LNG       LNG        LAT  \\\n",
       "0  POLYGON((52.379046 4.826794,52.379006 4.826812...  4.831152  52.377853   \n",
       "1  MULTIPOLYGON(((52.344519 4.850505,52.344504 4....  4.850694  52.344821   \n",
       "2  MULTIPOLYGON(((52.328765 4.890624,52.332059 4....  4.894538  52.329253   \n",
       "3  MULTIPOLYGON(((52.322562 4.892119,52.322566 4....  4.878960  52.323028   \n",
       "4  POLYGON((52.354808 4.898561,52.354308 4.898948...  4.896408  52.354402   \n",
       "\n",
       "   Unnamed: 9  \n",
       "0         NaN  \n",
       "1         NaN  \n",
       "2         NaN  \n",
       "3         NaN  \n",
       "4         NaN  "
      ]
     },
     "execution_count": 56,
     "metadata": {},
     "output_type": "execute_result"
    }
   ],
   "source": [
    "green_areas.head()\n",
    "#drop last colum\n",
    "#each entry is a different park, and there is the neigbourhood and the poligon\n",
    "#J are city parks, and N natural areas/green areas"
   ]
  },
  {
   "cell_type": "code",
   "execution_count": 58,
   "id": "74006c67",
   "metadata": {},
   "outputs": [],
   "source": [
    "green_areas = green_areas.iloc[:,:-1]"
   ]
  },
  {
   "cell_type": "code",
   "execution_count": 59,
   "id": "d9f8b3ac",
   "metadata": {},
   "outputs": [
    {
     "data": {
      "text/plain": [
       "Nieuw-West    46\n",
       "Oost          22\n",
       "Noord         15\n",
       "Zuid          11\n",
       "West          10\n",
       "Centrum       10\n",
       "Zuidoost       6\n",
       "Amstelveen     1\n",
       "Diemen         1\n",
       "Name: Stadsdeel, dtype: int64"
      ]
     },
     "execution_count": 59,
     "metadata": {},
     "output_type": "execute_result"
    }
   ],
   "source": [
    "green_areas[\"Stadsdeel\"].value_counts()\n",
    "#use the info of the polygons to plot the listings or other features"
   ]
  },
  {
   "cell_type": "code",
   "execution_count": 60,
   "id": "a624b0ad",
   "metadata": {},
   "outputs": [
    {
     "data": {
      "text/plain": [
       "N    79\n",
       "J    43\n",
       "Name: Stadspark, dtype: int64"
      ]
     },
     "execution_count": 60,
     "metadata": {},
     "output_type": "execute_result"
    }
   ],
   "source": [
    "green_areas[\"Stadspark\"].value_counts()\n"
   ]
  },
  {
   "cell_type": "code",
   "execution_count": null,
   "id": "f626c619",
   "metadata": {},
   "outputs": [],
   "source": []
  },
  {
   "cell_type": "markdown",
   "id": "40bd7944",
   "metadata": {},
   "source": [
    "# 5. Safety areas Amsterdam data"
   ]
  },
  {
   "cell_type": "code",
   "execution_count": 43,
   "id": "76c5677f",
   "metadata": {},
   "outputs": [],
   "source": [
    "crimes_areas_ams = pd.read_excel(\"../data/crimes_x_district_amsterdam.xlsx\" )"
   ]
  },
  {
   "cell_type": "code",
   "execution_count": 44,
   "id": "fd79cacd",
   "metadata": {},
   "outputs": [
    {
     "data": {
      "text/html": [
       "<div>\n",
       "<style scoped>\n",
       "    .dataframe tbody tr th:only-of-type {\n",
       "        vertical-align: middle;\n",
       "    }\n",
       "\n",
       "    .dataframe tbody tr th {\n",
       "        vertical-align: top;\n",
       "    }\n",
       "\n",
       "    .dataframe thead th {\n",
       "        text-align: right;\n",
       "    }\n",
       "</style>\n",
       "<table border=\"1\" class=\"dataframe\">\n",
       "  <thead>\n",
       "    <tr style=\"text-align: right;\">\n",
       "      <th></th>\n",
       "      <th>District</th>\n",
       "      <th>Year</th>\n",
       "      <th>Type of crime</th>\n",
       "      <th>number of crimes</th>\n",
       "      <th>Unnamed: 4</th>\n",
       "      <th>Unnamed: 5</th>\n",
       "      <th>Unnamed: 6</th>\n",
       "      <th>Unnamed: 7</th>\n",
       "      <th>Unnamed: 8</th>\n",
       "      <th>Unnamed: 9</th>\n",
       "      <th>Unnamed: 10</th>\n",
       "      <th>Unnamed: 11</th>\n",
       "      <th>Unnamed: 12</th>\n",
       "      <th>Unnamed: 13</th>\n",
       "      <th>Unnamed: 14</th>\n",
       "    </tr>\n",
       "  </thead>\n",
       "  <tbody>\n",
       "    <tr>\n",
       "      <th>0</th>\n",
       "      <td>A Centrum</td>\n",
       "      <td>2018</td>\n",
       "      <td>murder</td>\n",
       "      <td>40</td>\n",
       "      <td>NaN</td>\n",
       "      <td>NaN</td>\n",
       "      <td>NaN</td>\n",
       "      <td>NaN</td>\n",
       "      <td>NaN</td>\n",
       "      <td>NaN</td>\n",
       "      <td>NaN</td>\n",
       "      <td>NaN</td>\n",
       "      <td>NaN</td>\n",
       "      <td>NaN</td>\n",
       "      <td>NaN</td>\n",
       "    </tr>\n",
       "    <tr>\n",
       "      <th>1</th>\n",
       "      <td>A Centrum</td>\n",
       "      <td>2018</td>\n",
       "      <td>open violence</td>\n",
       "      <td>82</td>\n",
       "      <td>NaN</td>\n",
       "      <td>NaN</td>\n",
       "      <td>NaN</td>\n",
       "      <td>NaN</td>\n",
       "      <td>NaN</td>\n",
       "      <td>NaN</td>\n",
       "      <td>NaN</td>\n",
       "      <td>NaN</td>\n",
       "      <td>NaN</td>\n",
       "      <td>NaN</td>\n",
       "      <td>NaN</td>\n",
       "    </tr>\n",
       "    <tr>\n",
       "      <th>2</th>\n",
       "      <td>A Centrum</td>\n",
       "      <td>2018</td>\n",
       "      <td>threat</td>\n",
       "      <td>421</td>\n",
       "      <td>NaN</td>\n",
       "      <td>NaN</td>\n",
       "      <td>NaN</td>\n",
       "      <td>NaN</td>\n",
       "      <td>NaN</td>\n",
       "      <td>NaN</td>\n",
       "      <td>NaN</td>\n",
       "      <td>NaN</td>\n",
       "      <td>NaN</td>\n",
       "      <td>NaN</td>\n",
       "      <td>NaN</td>\n",
       "    </tr>\n",
       "    <tr>\n",
       "      <th>3</th>\n",
       "      <td>A Centrum</td>\n",
       "      <td>2018</td>\n",
       "      <td>abuse</td>\n",
       "      <td>1068</td>\n",
       "      <td>NaN</td>\n",
       "      <td>NaN</td>\n",
       "      <td>NaN</td>\n",
       "      <td>NaN</td>\n",
       "      <td>NaN</td>\n",
       "      <td>NaN</td>\n",
       "      <td>NaN</td>\n",
       "      <td>NaN</td>\n",
       "      <td>NaN</td>\n",
       "      <td>NaN</td>\n",
       "      <td>NaN</td>\n",
       "    </tr>\n",
       "    <tr>\n",
       "      <th>4</th>\n",
       "      <td>A Centrum</td>\n",
       "      <td>2018</td>\n",
       "      <td>street robbery</td>\n",
       "      <td>331</td>\n",
       "      <td>NaN</td>\n",
       "      <td>NaN</td>\n",
       "      <td>NaN</td>\n",
       "      <td>NaN</td>\n",
       "      <td>NaN</td>\n",
       "      <td>NaN</td>\n",
       "      <td>NaN</td>\n",
       "      <td>NaN</td>\n",
       "      <td>NaN</td>\n",
       "      <td>NaN</td>\n",
       "      <td>NaN</td>\n",
       "    </tr>\n",
       "  </tbody>\n",
       "</table>\n",
       "</div>"
      ],
      "text/plain": [
       "    District  Year   Type of crime  number of crimes  Unnamed: 4  Unnamed: 5  \\\n",
       "0  A Centrum  2018          murder                40         NaN         NaN   \n",
       "1  A Centrum  2018   open violence                82         NaN         NaN   \n",
       "2  A Centrum  2018          threat               421         NaN         NaN   \n",
       "3  A Centrum  2018           abuse              1068         NaN         NaN   \n",
       "4  A Centrum  2018  street robbery               331         NaN         NaN   \n",
       "\n",
       "   Unnamed: 6  Unnamed: 7  Unnamed: 8  Unnamed: 9  Unnamed: 10  Unnamed: 11  \\\n",
       "0         NaN         NaN         NaN         NaN          NaN          NaN   \n",
       "1         NaN         NaN         NaN         NaN          NaN          NaN   \n",
       "2         NaN         NaN         NaN         NaN          NaN          NaN   \n",
       "3         NaN         NaN         NaN         NaN          NaN          NaN   \n",
       "4         NaN         NaN         NaN         NaN          NaN          NaN   \n",
       "\n",
       "   Unnamed: 12  Unnamed: 13  Unnamed: 14  \n",
       "0          NaN          NaN          NaN  \n",
       "1          NaN          NaN          NaN  \n",
       "2          NaN          NaN          NaN  \n",
       "3          NaN          NaN          NaN  \n",
       "4          NaN          NaN          NaN  "
      ]
     },
     "execution_count": 44,
     "metadata": {},
     "output_type": "execute_result"
    }
   ],
   "source": [
    "crimes_areas_ams.head()"
   ]
  },
  {
   "cell_type": "code",
   "execution_count": 45,
   "id": "9fa6d37e",
   "metadata": {},
   "outputs": [],
   "source": [
    "crimes_areas_ams = crimes_areas_ams.iloc[:,0:4]"
   ]
  },
  {
   "cell_type": "code",
   "execution_count": 46,
   "id": "2138e859",
   "metadata": {},
   "outputs": [
    {
     "name": "stdout",
     "output_type": "stream",
     "text": [
      "<class 'pandas.core.frame.DataFrame'>\n",
      "RangeIndex: 144 entries, 0 to 143\n",
      "Data columns (total 4 columns):\n",
      " #   Column            Non-Null Count  Dtype \n",
      "---  ------            --------------  ----- \n",
      " 0   District          144 non-null    object\n",
      " 1   Year              144 non-null    int64 \n",
      " 2   Type of crime     144 non-null    object\n",
      " 3   number of crimes  144 non-null    int64 \n",
      "dtypes: int64(2), object(2)\n",
      "memory usage: 4.6+ KB\n"
     ]
    }
   ],
   "source": [
    "crimes_areas_ams.info()"
   ]
  },
  {
   "cell_type": "code",
   "execution_count": 47,
   "id": "bbec8f42",
   "metadata": {},
   "outputs": [
    {
     "data": {
      "text/html": [
       "<div>\n",
       "<style scoped>\n",
       "    .dataframe tbody tr th:only-of-type {\n",
       "        vertical-align: middle;\n",
       "    }\n",
       "\n",
       "    .dataframe tbody tr th {\n",
       "        vertical-align: top;\n",
       "    }\n",
       "\n",
       "    .dataframe thead th {\n",
       "        text-align: right;\n",
       "    }\n",
       "</style>\n",
       "<table border=\"1\" class=\"dataframe\">\n",
       "  <thead>\n",
       "    <tr style=\"text-align: right;\">\n",
       "      <th></th>\n",
       "      <th>District</th>\n",
       "      <th>Year</th>\n",
       "      <th>Type of crime</th>\n",
       "      <th>number of crimes</th>\n",
       "    </tr>\n",
       "  </thead>\n",
       "  <tbody>\n",
       "    <tr>\n",
       "      <th>126</th>\n",
       "      <td>Amsterdam</td>\n",
       "      <td>2018</td>\n",
       "      <td>murder</td>\n",
       "      <td>278</td>\n",
       "    </tr>\n",
       "    <tr>\n",
       "      <th>127</th>\n",
       "      <td>Amsterdam</td>\n",
       "      <td>2018</td>\n",
       "      <td>open violence</td>\n",
       "      <td>229</td>\n",
       "    </tr>\n",
       "    <tr>\n",
       "      <th>128</th>\n",
       "      <td>Amsterdam</td>\n",
       "      <td>2018</td>\n",
       "      <td>threat</td>\n",
       "      <td>2583</td>\n",
       "    </tr>\n",
       "    <tr>\n",
       "      <th>129</th>\n",
       "      <td>Amsterdam</td>\n",
       "      <td>2018</td>\n",
       "      <td>abuse</td>\n",
       "      <td>3908</td>\n",
       "    </tr>\n",
       "    <tr>\n",
       "      <th>130</th>\n",
       "      <td>Amsterdam</td>\n",
       "      <td>2018</td>\n",
       "      <td>street robbery</td>\n",
       "      <td>1236</td>\n",
       "    </tr>\n",
       "    <tr>\n",
       "      <th>131</th>\n",
       "      <td>Amsterdam</td>\n",
       "      <td>2018</td>\n",
       "      <td>robbery</td>\n",
       "      <td>226</td>\n",
       "    </tr>\n",
       "    <tr>\n",
       "      <th>132</th>\n",
       "      <td>Amsterdam</td>\n",
       "      <td>2019</td>\n",
       "      <td>murder</td>\n",
       "      <td>288</td>\n",
       "    </tr>\n",
       "    <tr>\n",
       "      <th>133</th>\n",
       "      <td>Amsterdam</td>\n",
       "      <td>2019</td>\n",
       "      <td>open violence</td>\n",
       "      <td>263</td>\n",
       "    </tr>\n",
       "    <tr>\n",
       "      <th>134</th>\n",
       "      <td>Amsterdam</td>\n",
       "      <td>2019</td>\n",
       "      <td>threat</td>\n",
       "      <td>2772</td>\n",
       "    </tr>\n",
       "    <tr>\n",
       "      <th>135</th>\n",
       "      <td>Amsterdam</td>\n",
       "      <td>2019</td>\n",
       "      <td>abuse</td>\n",
       "      <td>3933</td>\n",
       "    </tr>\n",
       "    <tr>\n",
       "      <th>136</th>\n",
       "      <td>Amsterdam</td>\n",
       "      <td>2019</td>\n",
       "      <td>street robbery</td>\n",
       "      <td>1241</td>\n",
       "    </tr>\n",
       "    <tr>\n",
       "      <th>137</th>\n",
       "      <td>Amsterdam</td>\n",
       "      <td>2019</td>\n",
       "      <td>robbery</td>\n",
       "      <td>215</td>\n",
       "    </tr>\n",
       "    <tr>\n",
       "      <th>138</th>\n",
       "      <td>Amsterdam</td>\n",
       "      <td>2020</td>\n",
       "      <td>murder</td>\n",
       "      <td>292</td>\n",
       "    </tr>\n",
       "    <tr>\n",
       "      <th>139</th>\n",
       "      <td>Amsterdam</td>\n",
       "      <td>2020</td>\n",
       "      <td>open violence</td>\n",
       "      <td>168</td>\n",
       "    </tr>\n",
       "    <tr>\n",
       "      <th>140</th>\n",
       "      <td>Amsterdam</td>\n",
       "      <td>2020</td>\n",
       "      <td>threat</td>\n",
       "      <td>2814</td>\n",
       "    </tr>\n",
       "    <tr>\n",
       "      <th>141</th>\n",
       "      <td>Amsterdam</td>\n",
       "      <td>2020</td>\n",
       "      <td>abuse</td>\n",
       "      <td>3553</td>\n",
       "    </tr>\n",
       "    <tr>\n",
       "      <th>142</th>\n",
       "      <td>Amsterdam</td>\n",
       "      <td>2020</td>\n",
       "      <td>street robbery</td>\n",
       "      <td>923</td>\n",
       "    </tr>\n",
       "    <tr>\n",
       "      <th>143</th>\n",
       "      <td>Amsterdam</td>\n",
       "      <td>2020</td>\n",
       "      <td>robbery</td>\n",
       "      <td>152</td>\n",
       "    </tr>\n",
       "  </tbody>\n",
       "</table>\n",
       "</div>"
      ],
      "text/plain": [
       "      District  Year   Type of crime  number of crimes\n",
       "126  Amsterdam  2018          murder               278\n",
       "127  Amsterdam  2018   open violence               229\n",
       "128  Amsterdam  2018          threat              2583\n",
       "129  Amsterdam  2018           abuse              3908\n",
       "130  Amsterdam  2018  street robbery              1236\n",
       "131  Amsterdam  2018         robbery               226\n",
       "132  Amsterdam  2019          murder               288\n",
       "133  Amsterdam  2019   open violence               263\n",
       "134  Amsterdam  2019          threat              2772\n",
       "135  Amsterdam  2019           abuse              3933\n",
       "136  Amsterdam  2019  street robbery              1241\n",
       "137  Amsterdam  2019         robbery               215\n",
       "138  Amsterdam  2020          murder               292\n",
       "139  Amsterdam  2020   open violence               168\n",
       "140  Amsterdam  2020          threat              2814\n",
       "141  Amsterdam  2020           abuse              3553\n",
       "142  Amsterdam  2020  street robbery               923\n",
       "143  Amsterdam  2020         robbery               152"
      ]
     },
     "execution_count": 47,
     "metadata": {},
     "output_type": "execute_result"
    }
   ],
   "source": [
    "crimes_areas_ams[crimes_areas_ams[\"District\"]== \"Amsterdam\"]"
   ]
  },
  {
   "cell_type": "code",
   "execution_count": 61,
   "id": "7e20d0ce",
   "metadata": {},
   "outputs": [],
   "source": [
    "district_crimes_ams =crimes_areas_ams.iloc[:126,:]\n",
    "#I see that the columns with district Amsterdam are slighlty the sum of all of them "
   ]
  },
  {
   "cell_type": "code",
   "execution_count": 62,
   "id": "c893d5f2",
   "metadata": {},
   "outputs": [
    {
     "data": {
      "text/html": [
       "<div>\n",
       "<style scoped>\n",
       "    .dataframe tbody tr th:only-of-type {\n",
       "        vertical-align: middle;\n",
       "    }\n",
       "\n",
       "    .dataframe tbody tr th {\n",
       "        vertical-align: top;\n",
       "    }\n",
       "\n",
       "    .dataframe thead th {\n",
       "        text-align: right;\n",
       "    }\n",
       "</style>\n",
       "<table border=\"1\" class=\"dataframe\">\n",
       "  <thead>\n",
       "    <tr style=\"text-align: right;\">\n",
       "      <th></th>\n",
       "      <th></th>\n",
       "      <th>number of crimes</th>\n",
       "    </tr>\n",
       "    <tr>\n",
       "      <th>Type of crime</th>\n",
       "      <th>Year</th>\n",
       "      <th></th>\n",
       "    </tr>\n",
       "  </thead>\n",
       "  <tbody>\n",
       "    <tr>\n",
       "      <th rowspan=\"3\" valign=\"top\">abuse</th>\n",
       "      <th>2018</th>\n",
       "      <td>3885</td>\n",
       "    </tr>\n",
       "    <tr>\n",
       "      <th>2019</th>\n",
       "      <td>3912</td>\n",
       "    </tr>\n",
       "    <tr>\n",
       "      <th>2020</th>\n",
       "      <td>3535</td>\n",
       "    </tr>\n",
       "    <tr>\n",
       "      <th rowspan=\"3\" valign=\"top\">murder</th>\n",
       "      <th>2018</th>\n",
       "      <td>275</td>\n",
       "    </tr>\n",
       "    <tr>\n",
       "      <th>2019</th>\n",
       "      <td>287</td>\n",
       "    </tr>\n",
       "    <tr>\n",
       "      <th>2020</th>\n",
       "      <td>290</td>\n",
       "    </tr>\n",
       "    <tr>\n",
       "      <th rowspan=\"3\" valign=\"top\">open violence</th>\n",
       "      <th>2018</th>\n",
       "      <td>228</td>\n",
       "    </tr>\n",
       "    <tr>\n",
       "      <th>2019</th>\n",
       "      <td>263</td>\n",
       "    </tr>\n",
       "    <tr>\n",
       "      <th>2020</th>\n",
       "      <td>168</td>\n",
       "    </tr>\n",
       "    <tr>\n",
       "      <th rowspan=\"3\" valign=\"top\">robbery</th>\n",
       "      <th>2018</th>\n",
       "      <td>225</td>\n",
       "    </tr>\n",
       "    <tr>\n",
       "      <th>2019</th>\n",
       "      <td>215</td>\n",
       "    </tr>\n",
       "    <tr>\n",
       "      <th>2020</th>\n",
       "      <td>151</td>\n",
       "    </tr>\n",
       "    <tr>\n",
       "      <th rowspan=\"3\" valign=\"top\">street robbery</th>\n",
       "      <th>2018</th>\n",
       "      <td>1235</td>\n",
       "    </tr>\n",
       "    <tr>\n",
       "      <th>2019</th>\n",
       "      <td>1239</td>\n",
       "    </tr>\n",
       "    <tr>\n",
       "      <th>2020</th>\n",
       "      <td>922</td>\n",
       "    </tr>\n",
       "    <tr>\n",
       "      <th rowspan=\"3\" valign=\"top\">threat</th>\n",
       "      <th>2018</th>\n",
       "      <td>2577</td>\n",
       "    </tr>\n",
       "    <tr>\n",
       "      <th>2019</th>\n",
       "      <td>2763</td>\n",
       "    </tr>\n",
       "    <tr>\n",
       "      <th>2020</th>\n",
       "      <td>2804</td>\n",
       "    </tr>\n",
       "  </tbody>\n",
       "</table>\n",
       "</div>"
      ],
      "text/plain": [
       "                     number of crimes\n",
       "Type of crime  Year                  \n",
       "abuse          2018              3885\n",
       "               2019              3912\n",
       "               2020              3535\n",
       "murder         2018               275\n",
       "               2019               287\n",
       "               2020               290\n",
       "open violence  2018               228\n",
       "               2019               263\n",
       "               2020               168\n",
       "robbery        2018               225\n",
       "               2019               215\n",
       "               2020               151\n",
       "street robbery 2018              1235\n",
       "               2019              1239\n",
       "               2020               922\n",
       "threat         2018              2577\n",
       "               2019              2763\n",
       "               2020              2804"
      ]
     },
     "execution_count": 62,
     "metadata": {},
     "output_type": "execute_result"
    }
   ],
   "source": [
    "district_crimes_ams.groupby([\"Type of crime\",\"Year\"]).sum()"
   ]
  },
  {
   "cell_type": "code",
   "execution_count": 64,
   "id": "5db9b4c0",
   "metadata": {},
   "outputs": [
    {
     "data": {
      "text/plain": [
       "K Zuid          18\n",
       "F Nieuw-West    18\n",
       "E West          18\n",
       "N Noord         18\n",
       "M Oost          18\n",
       "A Centrum       18\n",
       "T Zuidoost      18\n",
       "Name: District, dtype: int64"
      ]
     },
     "execution_count": 64,
     "metadata": {},
     "output_type": "execute_result"
    }
   ],
   "source": [
    "district_crimes_ams[\"District\"].value_counts()"
   ]
  }
 ],
 "metadata": {
  "kernelspec": {
   "display_name": "Laura1Env",
   "language": "python",
   "name": "laura1env"
  },
  "language_info": {
   "codemirror_mode": {
    "name": "ipython",
    "version": 3
   },
   "file_extension": ".py",
   "mimetype": "text/x-python",
   "name": "python",
   "nbconvert_exporter": "python",
   "pygments_lexer": "ipython3",
   "version": "3.9.2"
  },
  "toc": {
   "base_numbering": 1,
   "nav_menu": {},
   "number_sections": false,
   "sideBar": true,
   "skip_h1_title": false,
   "title_cell": "Table of Contents",
   "title_sidebar": "Contents",
   "toc_cell": true,
   "toc_position": {},
   "toc_section_display": true,
   "toc_window_display": true
  }
 },
 "nbformat": 4,
 "nbformat_minor": 5
}

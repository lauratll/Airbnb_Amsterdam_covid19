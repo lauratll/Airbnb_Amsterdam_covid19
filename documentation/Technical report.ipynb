{
 "cells": [
  {
   "cell_type": "markdown",
   "id": "24c8c12c",
   "metadata": {
    "toc": true
   },
   "source": [
    "<h1>Table of Contents<span class=\"tocSkip\"></span></h1>\n",
    "<div class=\"toc\"><ul class=\"toc-item\"><li><span><a href=\"#Summary\" data-toc-modified-id=\"Summary-1\">Summary</a></span></li><li><span><a href=\"#1.-Introduction-to-the-project\" data-toc-modified-id=\"1.-Introduction-to-the-project-2\">1. Introduction to the project</a></span><ul class=\"toc-item\"><li><span><a href=\"#1.1.-Project-description\" data-toc-modified-id=\"1.1.-Project-description-2.1\">1.1. Project description</a></span></li><li><span><a href=\"#1.2.-Objective\" data-toc-modified-id=\"1.2.-Objective-2.2\">1.2. Objective</a></span></li><li><span><a href=\"#1.3.-Questions-&amp;-Hypotheses\" data-toc-modified-id=\"1.3.-Questions-&amp;-Hypotheses-2.3\">1.3. Questions &amp; Hypotheses</a></span></li></ul></li><li><span><a href=\"#2.-Methods\" data-toc-modified-id=\"2.-Methods-3\">2. Methods</a></span></li><li><span><a href=\"#3.-Results\" data-toc-modified-id=\"3.-Results-4\">3. Results</a></span></li><li><span><a href=\"#4.-Discussion\" data-toc-modified-id=\"4.-Discussion-5\">4. Discussion</a></span></li><li><span><a href=\"#5.-Conclusions\" data-toc-modified-id=\"5.-Conclusions-6\">5. Conclusions</a></span></li><li><span><a href=\"#Annex\" data-toc-modified-id=\"Annex-7\">Annex</a></span></li></ul></div>"
   ]
  },
  {
   "cell_type": "markdown",
   "id": "08e39e29",
   "metadata": {},
   "source": [
    "# Technical report"
   ]
  },
  {
   "cell_type": "markdown",
   "id": "dfc1a434",
   "metadata": {},
   "source": [
    "# Airbnb in Amsterdam, pre and post corona"
   ]
  },
  {
   "cell_type": "markdown",
   "id": "5fe55c4f",
   "metadata": {},
   "source": [
    "                                                                               Laura Trapero, Amsterdam, July 2021"
   ]
  },
  {
   "cell_type": "markdown",
   "id": "81647685",
   "metadata": {},
   "source": [
    "## Summary"
   ]
  },
  {
   "cell_type": "code",
   "execution_count": null,
   "id": "b183ddd1",
   "metadata": {},
   "outputs": [],
   "source": []
  },
  {
   "cell_type": "code",
   "execution_count": null,
   "id": "13a5cb2e",
   "metadata": {},
   "outputs": [],
   "source": []
  },
  {
   "cell_type": "code",
   "execution_count": null,
   "id": "23b93f10",
   "metadata": {},
   "outputs": [],
   "source": []
  },
  {
   "cell_type": "markdown",
   "id": "575dab41",
   "metadata": {},
   "source": [
    "## 1. Introduction to the project"
   ]
  },
  {
   "cell_type": "markdown",
   "id": "a935351f",
   "metadata": {},
   "source": [
    "Since the start of the corona crisis in 2020, tourism trends have been worldwide changed.\n",
    "Amsterdam, as other touristic destination cities, have been hardly hitted by the corona crisis. \n",
    "Every country would set up restrictions during this period and this would be reflected in the number of visitors per country. That would affect serveral touristic businness.\n",
    "One of the sectors where we would expect to notice all the effects of all the restrictions that governments have stablish during this period is the accomodation.\n",
    "\n",
    "Before corona, Amsterdam tourism used to be defined as follows:\n",
    "\n",
    "Pre-coronavirus trends (Reference:informatic and statistic report. Tourism AMA 2019-2020. Government of the NL)\n",
    "\n",
    "- Amsterdam gets half of all foreign hotel guests in the Netherlands. In Amsterdam, visitors from abroad account for 84% of the total figure (nationally: 55%). In Amsterdam, the visitor mix is comprised as follows: 57% are European visitors, 27% are intercontinental visitors and 16% are Dutch.\n",
    "\n",
    "- The seasonal peak for foreign visitors is traditionally in the periods April-May and July- August, with the peak period for domestic visitors being the months April, May and/or June.\n",
    "\n",
    "- One-third of Amsterdam hotel overnight stays are for business purposes. The business market's seasonal peaks are the periods April-May and September-October. The recreational peak is July-August.\n",
    "\n",
    "\n",
    "\n",
    "The travel and contact restrictions are halting tourist activities. Tourism will pick up again as restrictions are eased."
   ]
  },
  {
   "cell_type": "markdown",
   "id": "9cc24be2",
   "metadata": {},
   "source": [
    "### 1.1. Project description"
   ]
  },
  {
   "cell_type": "code",
   "execution_count": null,
   "id": "6c489abb",
   "metadata": {},
   "outputs": [],
   "source": []
  },
  {
   "cell_type": "markdown",
   "id": "64b694cc",
   "metadata": {},
   "source": [
    "### 1.2. Objective"
   ]
  },
  {
   "cell_type": "markdown",
   "id": "d5c2dc5d",
   "metadata": {},
   "source": [
    "### 1.3. Questions & Hypotheses"
   ]
  },
  {
   "cell_type": "code",
   "execution_count": null,
   "id": "8ea22030",
   "metadata": {},
   "outputs": [],
   "source": []
  },
  {
   "cell_type": "code",
   "execution_count": null,
   "id": "13037577",
   "metadata": {},
   "outputs": [],
   "source": []
  },
  {
   "cell_type": "code",
   "execution_count": null,
   "id": "3fa241d0",
   "metadata": {},
   "outputs": [],
   "source": []
  },
  {
   "cell_type": "markdown",
   "id": "b84570ce",
   "metadata": {},
   "source": [
    "## 2. Methods"
   ]
  },
  {
   "cell_type": "code",
   "execution_count": null,
   "id": "e91f23bb",
   "metadata": {},
   "outputs": [],
   "source": []
  },
  {
   "cell_type": "code",
   "execution_count": null,
   "id": "d606f6db",
   "metadata": {},
   "outputs": [],
   "source": []
  },
  {
   "cell_type": "code",
   "execution_count": null,
   "id": "db91fd91",
   "metadata": {},
   "outputs": [],
   "source": []
  },
  {
   "cell_type": "markdown",
   "id": "3da59efc",
   "metadata": {},
   "source": [
    "## 3. Results"
   ]
  },
  {
   "cell_type": "code",
   "execution_count": null,
   "id": "c7777f07",
   "metadata": {},
   "outputs": [],
   "source": []
  },
  {
   "cell_type": "code",
   "execution_count": null,
   "id": "d99b5992",
   "metadata": {},
   "outputs": [],
   "source": []
  },
  {
   "cell_type": "code",
   "execution_count": null,
   "id": "e513ca3d",
   "metadata": {},
   "outputs": [],
   "source": []
  },
  {
   "cell_type": "code",
   "execution_count": null,
   "id": "77ee92b5",
   "metadata": {},
   "outputs": [],
   "source": []
  },
  {
   "cell_type": "code",
   "execution_count": null,
   "id": "e2709ad8",
   "metadata": {},
   "outputs": [],
   "source": []
  },
  {
   "cell_type": "code",
   "execution_count": null,
   "id": "d45c1baa",
   "metadata": {},
   "outputs": [],
   "source": []
  },
  {
   "cell_type": "markdown",
   "id": "2d48c6e2",
   "metadata": {},
   "source": [
    "## 4. Discussion"
   ]
  },
  {
   "cell_type": "code",
   "execution_count": null,
   "id": "58907dfd",
   "metadata": {},
   "outputs": [],
   "source": []
  },
  {
   "cell_type": "code",
   "execution_count": null,
   "id": "e015a322",
   "metadata": {},
   "outputs": [],
   "source": []
  },
  {
   "cell_type": "code",
   "execution_count": null,
   "id": "b4e753ae",
   "metadata": {},
   "outputs": [],
   "source": []
  },
  {
   "cell_type": "code",
   "execution_count": null,
   "id": "79b44c4a",
   "metadata": {},
   "outputs": [],
   "source": []
  },
  {
   "cell_type": "code",
   "execution_count": null,
   "id": "8a2f6886",
   "metadata": {},
   "outputs": [],
   "source": []
  },
  {
   "cell_type": "code",
   "execution_count": null,
   "id": "5fc6bef4",
   "metadata": {},
   "outputs": [],
   "source": []
  },
  {
   "cell_type": "code",
   "execution_count": null,
   "id": "3b041371",
   "metadata": {},
   "outputs": [],
   "source": []
  },
  {
   "cell_type": "markdown",
   "id": "fc8fdbd9",
   "metadata": {},
   "source": [
    "## 5. Conclusions"
   ]
  },
  {
   "cell_type": "code",
   "execution_count": null,
   "id": "e7093422",
   "metadata": {},
   "outputs": [],
   "source": []
  },
  {
   "cell_type": "code",
   "execution_count": null,
   "id": "339e9b0d",
   "metadata": {},
   "outputs": [],
   "source": []
  },
  {
   "cell_type": "code",
   "execution_count": null,
   "id": "d7e1ae91",
   "metadata": {},
   "outputs": [],
   "source": []
  },
  {
   "cell_type": "code",
   "execution_count": null,
   "id": "be602dc0",
   "metadata": {},
   "outputs": [],
   "source": []
  },
  {
   "cell_type": "code",
   "execution_count": null,
   "id": "51485e21",
   "metadata": {},
   "outputs": [],
   "source": []
  },
  {
   "cell_type": "code",
   "execution_count": null,
   "id": "1068fc0d",
   "metadata": {},
   "outputs": [],
   "source": []
  },
  {
   "cell_type": "markdown",
   "id": "79ea0bfb",
   "metadata": {},
   "source": [
    "## Annex"
   ]
  },
  {
   "cell_type": "code",
   "execution_count": null,
   "id": "71da6aae",
   "metadata": {},
   "outputs": [],
   "source": []
  }
 ],
 "metadata": {
  "kernelspec": {
   "display_name": "Laura1Env",
   "language": "python",
   "name": "laura1env"
  },
  "language_info": {
   "codemirror_mode": {
    "name": "ipython",
    "version": 3
   },
   "file_extension": ".py",
   "mimetype": "text/x-python",
   "name": "python",
   "nbconvert_exporter": "python",
   "pygments_lexer": "ipython3",
   "version": "3.9.2"
  },
  "toc": {
   "base_numbering": 1,
   "nav_menu": {},
   "number_sections": false,
   "sideBar": true,
   "skip_h1_title": true,
   "title_cell": "Table of Contents",
   "title_sidebar": "Contents",
   "toc_cell": true,
   "toc_position": {},
   "toc_section_display": true,
   "toc_window_display": true
  }
 },
 "nbformat": 4,
 "nbformat_minor": 5
}

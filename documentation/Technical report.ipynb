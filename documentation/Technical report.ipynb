{
 "cells": [
  {
   "cell_type": "markdown",
   "id": "d2f15f12",
   "metadata": {
    "toc": true
   },
   "source": [
    "<h1>Table of Contents<span class=\"tocSkip\"></span></h1>\n",
    "<div class=\"toc\"><ul class=\"toc-item\"><li><span><a href=\"#Summary\" data-toc-modified-id=\"Summary-1\">Summary</a></span></li><li><span><a href=\"#1.-Introduction-to-the-project\" data-toc-modified-id=\"1.-Introduction-to-the-project-2\">1. Introduction to the project</a></span><ul class=\"toc-item\"><li><span><a href=\"#1.1.-Project-description\" data-toc-modified-id=\"1.1.-Project-description-2.1\">1.1. Project description</a></span></li><li><span><a href=\"#1.2.-Objective\" data-toc-modified-id=\"1.2.-Objective-2.2\">1.2. Objective</a></span></li><li><span><a href=\"#1.3.-Questions-&amp;-Hypotheses\" data-toc-modified-id=\"1.3.-Questions-&amp;-Hypotheses-2.3\">1.3. Questions &amp; Hypotheses</a></span></li></ul></li><li><span><a href=\"#2.-Methods\" data-toc-modified-id=\"2.-Methods-3\">2. Methods</a></span><ul class=\"toc-item\"><li><span><a href=\"#2.1.-Data-sets\" data-toc-modified-id=\"2.1.-Data-sets-3.1\">2.1. Data sets</a></span></li><li><span><a href=\"#2.2.-Technology-used\" data-toc-modified-id=\"2.2.-Technology-used-3.2\">2.2. Technology used</a></span></li></ul></li><li><span><a href=\"#3.-Results\" data-toc-modified-id=\"3.-Results-4\">3. Results</a></span><ul class=\"toc-item\"><li><span><a href=\"#3.1.-Amsterdam-Airbnb-caracterization-in-the-present\" data-toc-modified-id=\"3.1.-Amsterdam-Airbnb-caracterization-in-the-present-4.1\">3.1. Amsterdam Airbnb caracterization in the present</a></span></li></ul></li><li><span><a href=\"#4.-Discussion\" data-toc-modified-id=\"4.-Discussion-5\">4. Discussion</a></span></li><li><span><a href=\"#5.-Conclusions\" data-toc-modified-id=\"5.-Conclusions-6\">5. Conclusions</a></span></li><li><span><a href=\"#Annex\" data-toc-modified-id=\"Annex-7\">Annex</a></span></li></ul></div>"
   ]
  },
  {
   "cell_type": "markdown",
   "id": "6c5e64f6",
   "metadata": {},
   "source": [
    "# Technical report"
   ]
  },
  {
   "cell_type": "markdown",
   "id": "d33935aa",
   "metadata": {},
   "source": [
    "# Airbnb in Amsterdam, pre and post corona"
   ]
  },
  {
   "cell_type": "markdown",
   "id": "dc013d32",
   "metadata": {},
   "source": [
    "                                                                               Laura Trapero, Amsterdam, July 2021"
   ]
  },
  {
   "cell_type": "markdown",
   "id": "fea262ce",
   "metadata": {},
   "source": [
    "## Summary"
   ]
  },
  {
   "cell_type": "code",
   "execution_count": null,
   "id": "80ef8828",
   "metadata": {},
   "outputs": [],
   "source": []
  },
  {
   "cell_type": "code",
   "execution_count": null,
   "id": "5a9aeaa2",
   "metadata": {},
   "outputs": [],
   "source": []
  },
  {
   "cell_type": "code",
   "execution_count": null,
   "id": "dd3380fb",
   "metadata": {},
   "outputs": [],
   "source": []
  },
  {
   "cell_type": "markdown",
   "id": "5bfcf40f",
   "metadata": {},
   "source": [
    "## 1. Introduction to the project"
   ]
  },
  {
   "cell_type": "markdown",
   "id": "5ae7e9fe",
   "metadata": {},
   "source": [
    "Since the start of the corona crisis in 2020, tourism trends have been worldwide changed.\n",
    "Amsterdam, as other touristic destination cities, have been hardly hitted by the corona crisis. \n",
    "Every country would set up restrictions during this period and this would be reflected in the number of visitors per country. That would affect serveral touristic businness.\n",
    "One of the sectors where we would expect to notice all the effects of all the restrictions that governments have stablish during this period is the accomodation.\n",
    "\n",
    "Before corona, Amsterdam tourism used to be defined as follows:\n",
    "\n",
    "Pre-coronavirus trends (Reference:informatic and statistic report. Tourism AMA 2019-2020. Government of the NL)\n",
    "\n",
    "- Amsterdam gets half of all foreign hotel guests in the Netherlands. In Amsterdam, visitors from abroad account for 84% of the total figure (nationally: 55%). In Amsterdam, the visitor mix is comprised as follows: 57% are European visitors, 27% are intercontinental visitors and 16% are Dutch.\n",
    "\n",
    "- The seasonal peak for foreign visitors is traditionally in the periods April-May and July- August, with the peak period for domestic visitors being the months April, May and/or June.\n",
    "\n",
    "- One-third of Amsterdam hotel overnight stays are for business purposes. The business market's seasonal peaks are the periods April-May and September-October. The recreational peak is July-August.\n",
    "\n",
    "\n",
    "\n",
    "The travel and contact restrictions are halting tourist activities. Tourism will pick up again as restrictions are eased."
   ]
  },
  {
   "cell_type": "markdown",
   "id": "137804d5",
   "metadata": {},
   "source": [
    "### 1.1. Project description"
   ]
  },
  {
   "cell_type": "code",
   "execution_count": null,
   "id": "e43c3cd8",
   "metadata": {},
   "outputs": [],
   "source": []
  },
  {
   "cell_type": "markdown",
   "id": "9c400844",
   "metadata": {},
   "source": [
    "### 1.2. Objective"
   ]
  },
  {
   "cell_type": "markdown",
   "id": "0b83ca8e",
   "metadata": {},
   "source": [
    "1. Charachterize the airbnb locations distribution in the city relating it to the safety and green spaces per neighbourhood.\n",
    "\n",
    "2. Compare how the available locations have change during this period (number of locations aivalable, type of locations...)\n",
    "\n",
    "3. Analyze the changes on prices, availability and bookings during this period"
   ]
  },
  {
   "cell_type": "code",
   "execution_count": null,
   "id": "969481f7",
   "metadata": {},
   "outputs": [],
   "source": []
  },
  {
   "cell_type": "markdown",
   "id": "3104f2b8",
   "metadata": {},
   "source": [
    "### 1.3. Questions & Hypotheses"
   ]
  },
  {
   "cell_type": "markdown",
   "id": "615f387d",
   "metadata": {},
   "source": [
    "1. We expect to find more airbnb locations in the most popular and centric neighbourhoods.\n",
    "\n",
    "2. We expect to fins more locations where there are more green areas and less criminality.\n",
    "\n",
    "3. Becasue of the government restrictions, and the known decrease of non national visitors, we expect less accomotations available and more full house renting than rooms.\n",
    "    \n",
    "    - A decrease of locations availability for the corona period.\n",
    " \n",
    "4. An impact on the price between pandemy and pre pandemy on the type of rental.\n",
    "\n",
    "5.  A fluctuation on the prices during this period should follow a pattern according to the country restriccions of mobility and touristic activities.\n",
    "\n",
    "6. A fluctuation as well on the booking during this period.\n",
    "\n",
    "7. A decrease of bookings on single rooms renting compare to entire rentals.\n"
   ]
  },
  {
   "cell_type": "markdown",
   "id": "caa2be26",
   "metadata": {},
   "source": [
    "\n",
    "\n"
   ]
  },
  {
   "cell_type": "code",
   "execution_count": null,
   "id": "1f3329d5",
   "metadata": {},
   "outputs": [],
   "source": []
  },
  {
   "cell_type": "markdown",
   "id": "e0901d3e",
   "metadata": {},
   "source": [
    "## 2. Methods"
   ]
  },
  {
   "cell_type": "markdown",
   "id": "b6a18465",
   "metadata": {},
   "source": [
    "### 2.1. Data sets"
   ]
  },
  {
   "cell_type": "code",
   "execution_count": null,
   "id": "cdabe038",
   "metadata": {},
   "outputs": [],
   "source": []
  },
  {
   "cell_type": "code",
   "execution_count": null,
   "id": "f47cf4d6",
   "metadata": {},
   "outputs": [],
   "source": []
  },
  {
   "cell_type": "markdown",
   "id": "11378343",
   "metadata": {},
   "source": [
    "### 2.2. Technology used"
   ]
  },
  {
   "cell_type": "code",
   "execution_count": null,
   "id": "c0cd4c5c",
   "metadata": {},
   "outputs": [],
   "source": []
  },
  {
   "cell_type": "code",
   "execution_count": null,
   "id": "29c9365d",
   "metadata": {},
   "outputs": [],
   "source": []
  },
  {
   "cell_type": "markdown",
   "id": "c976bcf9",
   "metadata": {},
   "source": [
    "## 3. Results"
   ]
  },
  {
   "cell_type": "markdown",
   "id": "c99635bf",
   "metadata": {},
   "source": [
    "### 3.1. Amsterdam Airbnb caracterization in the present"
   ]
  },
  {
   "cell_type": "code",
   "execution_count": null,
   "id": "072f0998",
   "metadata": {},
   "outputs": [],
   "source": []
  },
  {
   "cell_type": "markdown",
   "id": "002bcff6",
   "metadata": {},
   "source": [
    "#"
   ]
  },
  {
   "cell_type": "code",
   "execution_count": null,
   "id": "ba136155",
   "metadata": {},
   "outputs": [],
   "source": []
  },
  {
   "cell_type": "code",
   "execution_count": null,
   "id": "a9a6926d",
   "metadata": {},
   "outputs": [],
   "source": []
  },
  {
   "cell_type": "code",
   "execution_count": null,
   "id": "b4f126a1",
   "metadata": {},
   "outputs": [],
   "source": []
  },
  {
   "cell_type": "markdown",
   "id": "d147c3f8",
   "metadata": {},
   "source": [
    "## 4. Discussion"
   ]
  },
  {
   "cell_type": "code",
   "execution_count": null,
   "id": "2abc0630",
   "metadata": {},
   "outputs": [],
   "source": []
  },
  {
   "cell_type": "code",
   "execution_count": null,
   "id": "e65b854e",
   "metadata": {},
   "outputs": [],
   "source": []
  },
  {
   "cell_type": "code",
   "execution_count": null,
   "id": "8431ce37",
   "metadata": {},
   "outputs": [],
   "source": []
  },
  {
   "cell_type": "code",
   "execution_count": null,
   "id": "c083c554",
   "metadata": {},
   "outputs": [],
   "source": []
  },
  {
   "cell_type": "code",
   "execution_count": null,
   "id": "7c1e6980",
   "metadata": {},
   "outputs": [],
   "source": []
  },
  {
   "cell_type": "code",
   "execution_count": null,
   "id": "e67ac318",
   "metadata": {},
   "outputs": [],
   "source": []
  },
  {
   "cell_type": "code",
   "execution_count": null,
   "id": "2f6f4700",
   "metadata": {},
   "outputs": [],
   "source": []
  },
  {
   "cell_type": "markdown",
   "id": "63612a9e",
   "metadata": {},
   "source": [
    "## 5. Conclusions"
   ]
  },
  {
   "cell_type": "code",
   "execution_count": null,
   "id": "3c84b9f0",
   "metadata": {},
   "outputs": [],
   "source": []
  },
  {
   "cell_type": "code",
   "execution_count": null,
   "id": "272f1b62",
   "metadata": {},
   "outputs": [],
   "source": []
  },
  {
   "cell_type": "code",
   "execution_count": null,
   "id": "46f5aa61",
   "metadata": {},
   "outputs": [],
   "source": []
  },
  {
   "cell_type": "code",
   "execution_count": null,
   "id": "e551d667",
   "metadata": {},
   "outputs": [],
   "source": []
  },
  {
   "cell_type": "code",
   "execution_count": null,
   "id": "d485b8c0",
   "metadata": {},
   "outputs": [],
   "source": []
  },
  {
   "cell_type": "code",
   "execution_count": null,
   "id": "2404292c",
   "metadata": {},
   "outputs": [],
   "source": []
  },
  {
   "cell_type": "markdown",
   "id": "c4348572",
   "metadata": {},
   "source": [
    "## Annex"
   ]
  },
  {
   "cell_type": "code",
   "execution_count": null,
   "id": "f747a27d",
   "metadata": {},
   "outputs": [],
   "source": []
  }
 ],
 "metadata": {
  "kernelspec": {
   "display_name": "Laura1Env",
   "language": "python",
   "name": "laura1env"
  },
  "language_info": {
   "codemirror_mode": {
    "name": "ipython",
    "version": 3
   },
   "file_extension": ".py",
   "mimetype": "text/x-python",
   "name": "python",
   "nbconvert_exporter": "python",
   "pygments_lexer": "ipython3",
   "version": "3.9.2"
  },
  "toc": {
   "base_numbering": 1,
   "nav_menu": {},
   "number_sections": false,
   "sideBar": true,
   "skip_h1_title": true,
   "title_cell": "Table of Contents",
   "title_sidebar": "Contents",
   "toc_cell": true,
   "toc_position": {},
   "toc_section_display": true,
   "toc_window_display": true
  }
 },
 "nbformat": 4,
 "nbformat_minor": 5
}

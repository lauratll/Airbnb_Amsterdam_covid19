{
 "cells": [
  {
   "cell_type": "markdown",
   "id": "e79ef877",
   "metadata": {
    "toc": true
   },
   "source": [
    "<h1>Table of Contents<span class=\"tocSkip\"></span></h1>\n",
    "<div class=\"toc\"><ul class=\"toc-item\"><li><span><a href=\"#Exploring-the-data-sets\" data-toc-modified-id=\"Exploring-the-data-sets-1\">Exploring the data sets</a></span></li><li><span><a href=\"#1.-Listings\" data-toc-modified-id=\"1.-Listings-2\">1. Listings</a></span><ul class=\"toc-item\"><li><span><a href=\"#1.1-Listings-April-2020\" data-toc-modified-id=\"1.1-Listings-April-2020-2.1\">1.1 Listings April 2020</a></span></li><li><span><a href=\"#1.2-Listings-April-2021\" data-toc-modified-id=\"1.2-Listings-April-2021-2.2\">1.2 Listings April 2021</a></span></li><li><span><a href=\"#1.3.-Listings-dec-2018\" data-toc-modified-id=\"1.3.-Listings-dec-2018-2.3\">1.3. Listings dec 2018</a></span></li><li><span><a href=\"#1.4.-Listings-dec-2020\" data-toc-modified-id=\"1.4.-Listings-dec-2020-2.4\">1.4. Listings dec 2020</a></span></li><li><span><a href=\"#1.4.-Comparing-the-listings\" data-toc-modified-id=\"1.4.-Comparing-the-listings-2.5\">1.4. Comparing the listings</a></span></li></ul></li><li><span><a href=\"#2.-Reviews\" data-toc-modified-id=\"2.-Reviews-3\">2. Reviews</a></span><ul class=\"toc-item\"><li><span><a href=\"#2.1.-April-2021\" data-toc-modified-id=\"2.1.-April-2021-3.1\">2.1. April 2021</a></span></li></ul></li><li><span><a href=\"#3.-Calendar\" data-toc-modified-id=\"3.-Calendar-4\">3. Calendar</a></span><ul class=\"toc-item\"><li><span><a href=\"#3.1.-Calendar-2020-2021\" data-toc-modified-id=\"3.1.-Calendar-2020-2021-4.1\">3.1. Calendar 2020-2021</a></span></li><li><span><a href=\"#3.2.-Calendar-2019\" data-toc-modified-id=\"3.2.-Calendar-2019-4.2\">3.2. Calendar 2019</a></span></li></ul></li></ul></div>"
   ]
  },
  {
   "cell_type": "markdown",
   "id": "c677d4e2",
   "metadata": {},
   "source": [
    "# Exploring the data sets"
   ]
  },
  {
   "cell_type": "markdown",
   "id": "7d9aad72",
   "metadata": {},
   "source": [
    "# 1. Listings"
   ]
  },
  {
   "cell_type": "markdown",
   "id": "52a5f96b",
   "metadata": {},
   "source": [
    "## 1.1 Listings April 2020"
   ]
  },
  {
   "cell_type": "code",
   "execution_count": 1,
   "id": "aef894bb",
   "metadata": {},
   "outputs": [],
   "source": [
    "import pandas as pd\n",
    "import numpy as np"
   ]
  },
  {
   "cell_type": "code",
   "execution_count": 113,
   "id": "19fa81e9",
   "metadata": {},
   "outputs": [],
   "source": [
    "listings_april_20 = pd.read_csv(\"../data/listing_april_20.csv\")"
   ]
  },
  {
   "cell_type": "code",
   "execution_count": 114,
   "id": "9c95dd39",
   "metadata": {},
   "outputs": [
    {
     "data": {
      "text/html": [
       "<div>\n",
       "<style scoped>\n",
       "    .dataframe tbody tr th:only-of-type {\n",
       "        vertical-align: middle;\n",
       "    }\n",
       "\n",
       "    .dataframe tbody tr th {\n",
       "        vertical-align: top;\n",
       "    }\n",
       "\n",
       "    .dataframe thead th {\n",
       "        text-align: right;\n",
       "    }\n",
       "</style>\n",
       "<table border=\"1\" class=\"dataframe\">\n",
       "  <thead>\n",
       "    <tr style=\"text-align: right;\">\n",
       "      <th></th>\n",
       "      <th>id</th>\n",
       "      <th>name</th>\n",
       "      <th>host_id</th>\n",
       "      <th>host_name</th>\n",
       "      <th>neighbourhood_group</th>\n",
       "      <th>neighbourhood</th>\n",
       "      <th>latitude</th>\n",
       "      <th>longitude</th>\n",
       "      <th>room_type</th>\n",
       "      <th>price</th>\n",
       "      <th>minimum_nights</th>\n",
       "      <th>number_of_reviews</th>\n",
       "      <th>last_review</th>\n",
       "      <th>reviews_per_month</th>\n",
       "      <th>calculated_host_listings_count</th>\n",
       "      <th>availability_365</th>\n",
       "    </tr>\n",
       "  </thead>\n",
       "  <tbody>\n",
       "    <tr>\n",
       "      <th>0</th>\n",
       "      <td>2818</td>\n",
       "      <td>Quiet Garden View Room &amp; Super Fast WiFi</td>\n",
       "      <td>3159</td>\n",
       "      <td>Daniel</td>\n",
       "      <td>NaN</td>\n",
       "      <td>Oostelijk Havengebied - Indische Buurt</td>\n",
       "      <td>52.36575</td>\n",
       "      <td>4.94142</td>\n",
       "      <td>Private room</td>\n",
       "      <td>59</td>\n",
       "      <td>3</td>\n",
       "      <td>278</td>\n",
       "      <td>2020-02-14</td>\n",
       "      <td>2.06</td>\n",
       "      <td>1</td>\n",
       "      <td>169</td>\n",
       "    </tr>\n",
       "    <tr>\n",
       "      <th>1</th>\n",
       "      <td>20168</td>\n",
       "      <td>Studio with private bathroom in the centre 1</td>\n",
       "      <td>59484</td>\n",
       "      <td>Alexander</td>\n",
       "      <td>NaN</td>\n",
       "      <td>Centrum-Oost</td>\n",
       "      <td>52.36509</td>\n",
       "      <td>4.89354</td>\n",
       "      <td>Private room</td>\n",
       "      <td>100</td>\n",
       "      <td>1</td>\n",
       "      <td>340</td>\n",
       "      <td>2020-04-09</td>\n",
       "      <td>2.76</td>\n",
       "      <td>2</td>\n",
       "      <td>106</td>\n",
       "    </tr>\n",
       "    <tr>\n",
       "      <th>2</th>\n",
       "      <td>25428</td>\n",
       "      <td>Lovely apt in City Centre (w.lift) near Jordaan</td>\n",
       "      <td>56142</td>\n",
       "      <td>Joan</td>\n",
       "      <td>NaN</td>\n",
       "      <td>Centrum-West</td>\n",
       "      <td>52.37297</td>\n",
       "      <td>4.88339</td>\n",
       "      <td>Entire home/apt</td>\n",
       "      <td>125</td>\n",
       "      <td>14</td>\n",
       "      <td>5</td>\n",
       "      <td>2020-02-09</td>\n",
       "      <td>0.18</td>\n",
       "      <td>1</td>\n",
       "      <td>132</td>\n",
       "    </tr>\n",
       "    <tr>\n",
       "      <th>3</th>\n",
       "      <td>27886</td>\n",
       "      <td>Romantic, stylish B&amp;B houseboat in canal district</td>\n",
       "      <td>97647</td>\n",
       "      <td>Flip</td>\n",
       "      <td>NaN</td>\n",
       "      <td>Centrum-West</td>\n",
       "      <td>52.38761</td>\n",
       "      <td>4.89188</td>\n",
       "      <td>Private room</td>\n",
       "      <td>155</td>\n",
       "      <td>2</td>\n",
       "      <td>217</td>\n",
       "      <td>2020-03-02</td>\n",
       "      <td>2.15</td>\n",
       "      <td>1</td>\n",
       "      <td>172</td>\n",
       "    </tr>\n",
       "    <tr>\n",
       "      <th>4</th>\n",
       "      <td>28871</td>\n",
       "      <td>Comfortable double room</td>\n",
       "      <td>124245</td>\n",
       "      <td>Edwin</td>\n",
       "      <td>NaN</td>\n",
       "      <td>Centrum-West</td>\n",
       "      <td>52.36719</td>\n",
       "      <td>4.89092</td>\n",
       "      <td>Private room</td>\n",
       "      <td>75</td>\n",
       "      <td>2</td>\n",
       "      <td>332</td>\n",
       "      <td>2020-03-16</td>\n",
       "      <td>2.82</td>\n",
       "      <td>3</td>\n",
       "      <td>210</td>\n",
       "    </tr>\n",
       "  </tbody>\n",
       "</table>\n",
       "</div>"
      ],
      "text/plain": [
       "      id                                               name  host_id  \\\n",
       "0   2818           Quiet Garden View Room & Super Fast WiFi     3159   \n",
       "1  20168       Studio with private bathroom in the centre 1    59484   \n",
       "2  25428    Lovely apt in City Centre (w.lift) near Jordaan    56142   \n",
       "3  27886  Romantic, stylish B&B houseboat in canal district    97647   \n",
       "4  28871                            Comfortable double room   124245   \n",
       "\n",
       "   host_name  neighbourhood_group                           neighbourhood  \\\n",
       "0     Daniel                  NaN  Oostelijk Havengebied - Indische Buurt   \n",
       "1  Alexander                  NaN                            Centrum-Oost   \n",
       "2       Joan                  NaN                            Centrum-West   \n",
       "3       Flip                  NaN                            Centrum-West   \n",
       "4      Edwin                  NaN                            Centrum-West   \n",
       "\n",
       "   latitude  longitude        room_type  price  minimum_nights  \\\n",
       "0  52.36575    4.94142     Private room     59               3   \n",
       "1  52.36509    4.89354     Private room    100               1   \n",
       "2  52.37297    4.88339  Entire home/apt    125              14   \n",
       "3  52.38761    4.89188     Private room    155               2   \n",
       "4  52.36719    4.89092     Private room     75               2   \n",
       "\n",
       "   number_of_reviews last_review  reviews_per_month  \\\n",
       "0                278  2020-02-14               2.06   \n",
       "1                340  2020-04-09               2.76   \n",
       "2                  5  2020-02-09               0.18   \n",
       "3                217  2020-03-02               2.15   \n",
       "4                332  2020-03-16               2.82   \n",
       "\n",
       "   calculated_host_listings_count  availability_365  \n",
       "0                               1               169  \n",
       "1                               2               106  \n",
       "2                               1               132  \n",
       "3                               1               172  \n",
       "4                               3               210  "
      ]
     },
     "execution_count": 114,
     "metadata": {},
     "output_type": "execute_result"
    }
   ],
   "source": [
    "listings_april_20.head()"
   ]
  },
  {
   "cell_type": "markdown",
   "id": "9a11e576",
   "metadata": {},
   "source": [
    "## 1.2 Listings April 2021"
   ]
  },
  {
   "cell_type": "code",
   "execution_count": 115,
   "id": "2abe72e5",
   "metadata": {},
   "outputs": [],
   "source": [
    "listings_april_21 = pd.read_csv(\"../data/listings_april_21.csv\")"
   ]
  },
  {
   "cell_type": "code",
   "execution_count": 116,
   "id": "3f9b5190",
   "metadata": {},
   "outputs": [
    {
     "data": {
      "text/html": [
       "<div>\n",
       "<style scoped>\n",
       "    .dataframe tbody tr th:only-of-type {\n",
       "        vertical-align: middle;\n",
       "    }\n",
       "\n",
       "    .dataframe tbody tr th {\n",
       "        vertical-align: top;\n",
       "    }\n",
       "\n",
       "    .dataframe thead th {\n",
       "        text-align: right;\n",
       "    }\n",
       "</style>\n",
       "<table border=\"1\" class=\"dataframe\">\n",
       "  <thead>\n",
       "    <tr style=\"text-align: right;\">\n",
       "      <th></th>\n",
       "      <th>id</th>\n",
       "      <th>name</th>\n",
       "      <th>host_id</th>\n",
       "      <th>host_name</th>\n",
       "      <th>neighbourhood_group</th>\n",
       "      <th>neighbourhood</th>\n",
       "      <th>latitude</th>\n",
       "      <th>longitude</th>\n",
       "      <th>room_type</th>\n",
       "      <th>price</th>\n",
       "      <th>minimum_nights</th>\n",
       "      <th>number_of_reviews</th>\n",
       "      <th>last_review</th>\n",
       "      <th>reviews_per_month</th>\n",
       "      <th>calculated_host_listings_count</th>\n",
       "      <th>availability_365</th>\n",
       "    </tr>\n",
       "  </thead>\n",
       "  <tbody>\n",
       "    <tr>\n",
       "      <th>0</th>\n",
       "      <td>2818</td>\n",
       "      <td>Quiet Garden View Room &amp; Super Fast WiFi</td>\n",
       "      <td>3159</td>\n",
       "      <td>Daniel</td>\n",
       "      <td>NaN</td>\n",
       "      <td>Oostelijk Havengebied - Indische Buurt</td>\n",
       "      <td>52.36435</td>\n",
       "      <td>4.94358</td>\n",
       "      <td>Private room</td>\n",
       "      <td>59</td>\n",
       "      <td>3</td>\n",
       "      <td>278</td>\n",
       "      <td>2020-02-14</td>\n",
       "      <td>1.90</td>\n",
       "      <td>1</td>\n",
       "      <td>152</td>\n",
       "    </tr>\n",
       "    <tr>\n",
       "      <th>1</th>\n",
       "      <td>20168</td>\n",
       "      <td>Studio with private bathroom in the centre 1</td>\n",
       "      <td>59484</td>\n",
       "      <td>Alexander</td>\n",
       "      <td>NaN</td>\n",
       "      <td>Centrum-Oost</td>\n",
       "      <td>52.36407</td>\n",
       "      <td>4.89393</td>\n",
       "      <td>Private room</td>\n",
       "      <td>200</td>\n",
       "      <td>1</td>\n",
       "      <td>339</td>\n",
       "      <td>2020-04-09</td>\n",
       "      <td>2.50</td>\n",
       "      <td>2</td>\n",
       "      <td>0</td>\n",
       "    </tr>\n",
       "    <tr>\n",
       "      <th>2</th>\n",
       "      <td>25428</td>\n",
       "      <td>Lovely, 1 bed apt in Ctr (w.lift) -3/20-6/20(f...</td>\n",
       "      <td>56142</td>\n",
       "      <td>Joan</td>\n",
       "      <td>NaN</td>\n",
       "      <td>Centrum-West</td>\n",
       "      <td>52.37490</td>\n",
       "      <td>4.88487</td>\n",
       "      <td>Entire home/apt</td>\n",
       "      <td>125</td>\n",
       "      <td>14</td>\n",
       "      <td>5</td>\n",
       "      <td>2020-02-09</td>\n",
       "      <td>0.13</td>\n",
       "      <td>2</td>\n",
       "      <td>132</td>\n",
       "    </tr>\n",
       "    <tr>\n",
       "      <th>3</th>\n",
       "      <td>27886</td>\n",
       "      <td>Romantic, stylish B&amp;B houseboat in canal district</td>\n",
       "      <td>97647</td>\n",
       "      <td>Flip</td>\n",
       "      <td>NaN</td>\n",
       "      <td>Centrum-West</td>\n",
       "      <td>52.38761</td>\n",
       "      <td>4.89188</td>\n",
       "      <td>Private room</td>\n",
       "      <td>141</td>\n",
       "      <td>2</td>\n",
       "      <td>219</td>\n",
       "      <td>2020-07-25</td>\n",
       "      <td>1.94</td>\n",
       "      <td>1</td>\n",
       "      <td>66</td>\n",
       "    </tr>\n",
       "    <tr>\n",
       "      <th>4</th>\n",
       "      <td>28871</td>\n",
       "      <td>Comfortable double room</td>\n",
       "      <td>124245</td>\n",
       "      <td>Edwin</td>\n",
       "      <td>NaN</td>\n",
       "      <td>Centrum-West</td>\n",
       "      <td>52.36775</td>\n",
       "      <td>4.89092</td>\n",
       "      <td>Private room</td>\n",
       "      <td>75</td>\n",
       "      <td>2</td>\n",
       "      <td>336</td>\n",
       "      <td>2020-09-20</td>\n",
       "      <td>2.59</td>\n",
       "      <td>2</td>\n",
       "      <td>335</td>\n",
       "    </tr>\n",
       "  </tbody>\n",
       "</table>\n",
       "</div>"
      ],
      "text/plain": [
       "      id                                               name  host_id  \\\n",
       "0   2818           Quiet Garden View Room & Super Fast WiFi     3159   \n",
       "1  20168       Studio with private bathroom in the centre 1    59484   \n",
       "2  25428  Lovely, 1 bed apt in Ctr (w.lift) -3/20-6/20(f...    56142   \n",
       "3  27886  Romantic, stylish B&B houseboat in canal district    97647   \n",
       "4  28871                            Comfortable double room   124245   \n",
       "\n",
       "   host_name  neighbourhood_group                           neighbourhood  \\\n",
       "0     Daniel                  NaN  Oostelijk Havengebied - Indische Buurt   \n",
       "1  Alexander                  NaN                            Centrum-Oost   \n",
       "2       Joan                  NaN                            Centrum-West   \n",
       "3       Flip                  NaN                            Centrum-West   \n",
       "4      Edwin                  NaN                            Centrum-West   \n",
       "\n",
       "   latitude  longitude        room_type  price  minimum_nights  \\\n",
       "0  52.36435    4.94358     Private room     59               3   \n",
       "1  52.36407    4.89393     Private room    200               1   \n",
       "2  52.37490    4.88487  Entire home/apt    125              14   \n",
       "3  52.38761    4.89188     Private room    141               2   \n",
       "4  52.36775    4.89092     Private room     75               2   \n",
       "\n",
       "   number_of_reviews last_review  reviews_per_month  \\\n",
       "0                278  2020-02-14               1.90   \n",
       "1                339  2020-04-09               2.50   \n",
       "2                  5  2020-02-09               0.13   \n",
       "3                219  2020-07-25               1.94   \n",
       "4                336  2020-09-20               2.59   \n",
       "\n",
       "   calculated_host_listings_count  availability_365  \n",
       "0                               1               152  \n",
       "1                               2                 0  \n",
       "2                               2               132  \n",
       "3                               1                66  \n",
       "4                               2               335  "
      ]
     },
     "execution_count": 116,
     "metadata": {},
     "output_type": "execute_result"
    }
   ],
   "source": [
    "listings_april_21.head()"
   ]
  },
  {
   "cell_type": "code",
   "execution_count": 124,
   "id": "46441d43",
   "metadata": {},
   "outputs": [
    {
     "name": "stdout",
     "output_type": "stream",
     "text": [
      "<class 'pandas.core.frame.DataFrame'>\n",
      "RangeIndex: 17825 entries, 0 to 17824\n",
      "Data columns (total 16 columns):\n",
      " #   Column                          Non-Null Count  Dtype  \n",
      "---  ------                          --------------  -----  \n",
      " 0   id                              17825 non-null  int64  \n",
      " 1   name                            17793 non-null  object \n",
      " 2   host_id                         17825 non-null  int64  \n",
      " 3   host_name                       17230 non-null  object \n",
      " 4   neighbourhood_group             0 non-null      float64\n",
      " 5   neighbourhood                   17825 non-null  object \n",
      " 6   latitude                        17825 non-null  float64\n",
      " 7   longitude                       17825 non-null  float64\n",
      " 8   room_type                       17825 non-null  object \n",
      " 9   price                           17825 non-null  int64  \n",
      " 10  minimum_nights                  17825 non-null  int64  \n",
      " 11  number_of_reviews               17825 non-null  int64  \n",
      " 12  last_review                     15425 non-null  object \n",
      " 13  reviews_per_month               15425 non-null  float64\n",
      " 14  calculated_host_listings_count  17825 non-null  int64  \n",
      " 15  availability_365                17825 non-null  int64  \n",
      "dtypes: float64(4), int64(7), object(5)\n",
      "memory usage: 2.2+ MB\n"
     ]
    }
   ],
   "source": [
    "listings_april_21.info()"
   ]
  },
  {
   "cell_type": "code",
   "execution_count": 11,
   "id": "d5cdd821",
   "metadata": {},
   "outputs": [],
   "source": []
  },
  {
   "cell_type": "markdown",
   "id": "323407ac",
   "metadata": {},
   "source": [
    "## 1.3. Listings dec 2018"
   ]
  },
  {
   "cell_type": "code",
   "execution_count": 134,
   "id": "08e45dc4",
   "metadata": {},
   "outputs": [],
   "source": [
    "listings_dec_18 = pd.read_csv(\"../data/listings_dec18.csv\")"
   ]
  },
  {
   "cell_type": "code",
   "execution_count": 135,
   "id": "2cc44ce7",
   "metadata": {},
   "outputs": [
    {
     "data": {
      "text/plain": [
       "20030"
      ]
     },
     "execution_count": 135,
     "metadata": {},
     "output_type": "execute_result"
    }
   ],
   "source": [
    "listings_dec_18[\"id\"].nunique()"
   ]
  },
  {
   "cell_type": "code",
   "execution_count": 136,
   "id": "3ce1fb09",
   "metadata": {},
   "outputs": [
    {
     "data": {
      "text/plain": [
       "(20030, 16)"
      ]
     },
     "execution_count": 136,
     "metadata": {},
     "output_type": "execute_result"
    }
   ],
   "source": [
    "listings_dec_18.shape"
   ]
  },
  {
   "cell_type": "markdown",
   "id": "eedb8cef",
   "metadata": {},
   "source": [
    "## 1.4. Listings dec 2020"
   ]
  },
  {
   "cell_type": "code",
   "execution_count": 138,
   "id": "32a54943",
   "metadata": {},
   "outputs": [],
   "source": [
    "listings_dec_20 = pd.read_csv(\"../data/listings_dec20.csv\")"
   ]
  },
  {
   "cell_type": "code",
   "execution_count": 139,
   "id": "09a7c919",
   "metadata": {},
   "outputs": [
    {
     "data": {
      "text/plain": [
       "(18522, 16)"
      ]
     },
     "execution_count": 139,
     "metadata": {},
     "output_type": "execute_result"
    }
   ],
   "source": [
    "listings_dec_20.shape"
   ]
  },
  {
   "cell_type": "code",
   "execution_count": null,
   "id": "5d66e602",
   "metadata": {},
   "outputs": [],
   "source": []
  },
  {
   "cell_type": "markdown",
   "id": "7b7ad9bf",
   "metadata": {},
   "source": [
    "## 1.4. Comparing the listings"
   ]
  },
  {
   "cell_type": "code",
   "execution_count": 143,
   "id": "70a88a7a",
   "metadata": {},
   "outputs": [
    {
     "data": {
      "text/plain": [
       "19362"
      ]
     },
     "execution_count": 143,
     "metadata": {},
     "output_type": "execute_result"
    }
   ],
   "source": [
    "listings_april_20[\"id\"].nunique()"
   ]
  },
  {
   "cell_type": "code",
   "execution_count": 142,
   "id": "a93072b0",
   "metadata": {},
   "outputs": [
    {
     "data": {
      "text/plain": [
       "17825"
      ]
     },
     "execution_count": 142,
     "metadata": {},
     "output_type": "execute_result"
    }
   ],
   "source": [
    "listings_april_21[\"id\"].nunique()"
   ]
  },
  {
   "cell_type": "code",
   "execution_count": 141,
   "id": "ff5ed292",
   "metadata": {},
   "outputs": [
    {
     "data": {
      "text/plain": [
       "18522"
      ]
     },
     "execution_count": 141,
     "metadata": {},
     "output_type": "execute_result"
    }
   ],
   "source": [
    "listings_dec_20[\"id\"].nunique()"
   ]
  },
  {
   "cell_type": "code",
   "execution_count": 140,
   "id": "d1b2bd6c",
   "metadata": {},
   "outputs": [
    {
     "data": {
      "text/plain": [
       "20030"
      ]
     },
     "execution_count": 140,
     "metadata": {},
     "output_type": "execute_result"
    }
   ],
   "source": [
    "listings_dec_18[\"id\"].nunique()"
   ]
  },
  {
   "cell_type": "code",
   "execution_count": null,
   "id": "f722e25c",
   "metadata": {},
   "outputs": [],
   "source": []
  },
  {
   "cell_type": "code",
   "execution_count": null,
   "id": "c3388547",
   "metadata": {},
   "outputs": [],
   "source": []
  },
  {
   "cell_type": "code",
   "execution_count": null,
   "id": "64401524",
   "metadata": {},
   "outputs": [],
   "source": []
  },
  {
   "cell_type": "markdown",
   "id": "226d55ad",
   "metadata": {},
   "source": [
    "# 2. Reviews"
   ]
  },
  {
   "cell_type": "markdown",
   "id": "29759b5b",
   "metadata": {},
   "source": [
    "## 2.1. April 2021"
   ]
  },
  {
   "cell_type": "code",
   "execution_count": 45,
   "id": "baa0598f",
   "metadata": {},
   "outputs": [],
   "source": [
    "reviews= pd.read_csv(\"../data/reviews_april2021.csv\")"
   ]
  },
  {
   "cell_type": "code",
   "execution_count": 46,
   "id": "e8017833",
   "metadata": {},
   "outputs": [
    {
     "name": "stdout",
     "output_type": "stream",
     "text": [
      "<class 'pandas.core.frame.DataFrame'>\n",
      "RangeIndex: 426960 entries, 0 to 426959\n",
      "Data columns (total 2 columns):\n",
      " #   Column      Non-Null Count   Dtype \n",
      "---  ------      --------------   ----- \n",
      " 0   listing_id  426960 non-null  int64 \n",
      " 1   date        426960 non-null  object\n",
      "dtypes: int64(1), object(1)\n",
      "memory usage: 6.5+ MB\n"
     ]
    }
   ],
   "source": [
    "reviews.info()"
   ]
  },
  {
   "cell_type": "code",
   "execution_count": 47,
   "id": "06052ac9",
   "metadata": {},
   "outputs": [
    {
     "data": {
      "text/plain": [
       "'2009-03-30'"
      ]
     },
     "execution_count": 47,
     "metadata": {},
     "output_type": "execute_result"
    }
   ],
   "source": [
    "reviews[\"date\"].min()"
   ]
  },
  {
   "cell_type": "code",
   "execution_count": 48,
   "id": "770eacdf",
   "metadata": {},
   "outputs": [],
   "source": [
    "reviews[\"date\"] = pd.to_datetime(reviews[\"date\"])"
   ]
  },
  {
   "cell_type": "code",
   "execution_count": 49,
   "id": "187e05c3",
   "metadata": {},
   "outputs": [],
   "source": [
    "reviews['year']= reviews[\"date\"].dt.year\n",
    "reviews['month']= reviews[\"date\"].dt.month\n",
    "reviews['day']= reviews[\"date\"].dt.day"
   ]
  },
  {
   "cell_type": "code",
   "execution_count": 50,
   "id": "d09aa1e6",
   "metadata": {},
   "outputs": [],
   "source": [
    "reviews['day_of_week'] = reviews[\"date\"].dt.dayofweek"
   ]
  },
  {
   "cell_type": "code",
   "execution_count": 51,
   "id": "16904c8d",
   "metadata": {},
   "outputs": [],
   "source": [
    "dw_mapping={\n",
    "    0: 'Monday', \n",
    "    1: 'Tuesday', \n",
    "    2: 'Wednesday', \n",
    "    3: 'Thursday', \n",
    "    4: 'Friday',\n",
    "    5: 'Saturday', \n",
    "    6: 'Sunday'\n",
    "} \n",
    "reviews['day_of_week_name']=reviews[\"date\"].dt.weekday.map(dw_mapping)\n"
   ]
  },
  {
   "cell_type": "code",
   "execution_count": 52,
   "id": "e6f796d7",
   "metadata": {},
   "outputs": [
    {
     "data": {
      "text/html": [
       "<div>\n",
       "<style scoped>\n",
       "    .dataframe tbody tr th:only-of-type {\n",
       "        vertical-align: middle;\n",
       "    }\n",
       "\n",
       "    .dataframe tbody tr th {\n",
       "        vertical-align: top;\n",
       "    }\n",
       "\n",
       "    .dataframe thead th {\n",
       "        text-align: right;\n",
       "    }\n",
       "</style>\n",
       "<table border=\"1\" class=\"dataframe\">\n",
       "  <thead>\n",
       "    <tr style=\"text-align: right;\">\n",
       "      <th></th>\n",
       "      <th>listing_id</th>\n",
       "      <th>date</th>\n",
       "      <th>year</th>\n",
       "      <th>month</th>\n",
       "      <th>day</th>\n",
       "      <th>day_of_week</th>\n",
       "      <th>day_of_week_name</th>\n",
       "    </tr>\n",
       "  </thead>\n",
       "  <tbody>\n",
       "    <tr>\n",
       "      <th>0</th>\n",
       "      <td>2818</td>\n",
       "      <td>2009-03-30</td>\n",
       "      <td>2009</td>\n",
       "      <td>3</td>\n",
       "      <td>30</td>\n",
       "      <td>0</td>\n",
       "      <td>Monday</td>\n",
       "    </tr>\n",
       "    <tr>\n",
       "      <th>1</th>\n",
       "      <td>2818</td>\n",
       "      <td>2009-04-24</td>\n",
       "      <td>2009</td>\n",
       "      <td>4</td>\n",
       "      <td>24</td>\n",
       "      <td>4</td>\n",
       "      <td>Friday</td>\n",
       "    </tr>\n",
       "    <tr>\n",
       "      <th>2</th>\n",
       "      <td>2818</td>\n",
       "      <td>2009-05-03</td>\n",
       "      <td>2009</td>\n",
       "      <td>5</td>\n",
       "      <td>3</td>\n",
       "      <td>6</td>\n",
       "      <td>Sunday</td>\n",
       "    </tr>\n",
       "    <tr>\n",
       "      <th>3</th>\n",
       "      <td>2818</td>\n",
       "      <td>2009-05-18</td>\n",
       "      <td>2009</td>\n",
       "      <td>5</td>\n",
       "      <td>18</td>\n",
       "      <td>0</td>\n",
       "      <td>Monday</td>\n",
       "    </tr>\n",
       "    <tr>\n",
       "      <th>4</th>\n",
       "      <td>2818</td>\n",
       "      <td>2009-05-25</td>\n",
       "      <td>2009</td>\n",
       "      <td>5</td>\n",
       "      <td>25</td>\n",
       "      <td>0</td>\n",
       "      <td>Monday</td>\n",
       "    </tr>\n",
       "  </tbody>\n",
       "</table>\n",
       "</div>"
      ],
      "text/plain": [
       "   listing_id       date  year  month  day  day_of_week day_of_week_name\n",
       "0        2818 2009-03-30  2009      3   30            0           Monday\n",
       "1        2818 2009-04-24  2009      4   24            4           Friday\n",
       "2        2818 2009-05-03  2009      5    3            6           Sunday\n",
       "3        2818 2009-05-18  2009      5   18            0           Monday\n",
       "4        2818 2009-05-25  2009      5   25            0           Monday"
      ]
     },
     "execution_count": 52,
     "metadata": {},
     "output_type": "execute_result"
    }
   ],
   "source": [
    "reviews.head()"
   ]
  },
  {
   "cell_type": "code",
   "execution_count": 53,
   "id": "d4f3be1b",
   "metadata": {},
   "outputs": [
    {
     "data": {
      "text/plain": [
       "Timestamp('2009-03-30 00:00:00')"
      ]
     },
     "execution_count": 53,
     "metadata": {},
     "output_type": "execute_result"
    }
   ],
   "source": [
    "reviews[\"date\"].min()"
   ]
  },
  {
   "cell_type": "code",
   "execution_count": 54,
   "id": "f57062fa",
   "metadata": {},
   "outputs": [
    {
     "data": {
      "text/plain": [
       "Timestamp('2021-04-11 00:00:00')"
      ]
     },
     "execution_count": 54,
     "metadata": {},
     "output_type": "execute_result"
    }
   ],
   "source": [
    "reviews[\"date\"].max()"
   ]
  },
  {
   "cell_type": "code",
   "execution_count": 55,
   "id": "9da04f0b",
   "metadata": {},
   "outputs": [],
   "source": [
    "#I have information from the 2009-03-30 till the 2018-12-21"
   ]
  },
  {
   "cell_type": "code",
   "execution_count": null,
   "id": "d42f2157",
   "metadata": {},
   "outputs": [],
   "source": [
    "#In the december 2018 file it starts from the same period, so it is already in this file the info.\n",
    "#We can just obmit the file"
   ]
  },
  {
   "cell_type": "markdown",
   "id": "aab5a768",
   "metadata": {},
   "source": [
    "# 3. Calendar"
   ]
  },
  {
   "cell_type": "markdown",
   "id": "31041d94",
   "metadata": {},
   "source": [
    "## 3.1. Calendar 2020-2021"
   ]
  },
  {
   "cell_type": "code",
   "execution_count": 85,
   "id": "855c16e2",
   "metadata": {},
   "outputs": [],
   "source": [
    "calendar_0720_0721= pd.read_csv(\"../data/calendar_july20_july21.csv\")"
   ]
  },
  {
   "cell_type": "code",
   "execution_count": 86,
   "id": "8facfc47",
   "metadata": {},
   "outputs": [
    {
     "data": {
      "text/html": [
       "<div>\n",
       "<style scoped>\n",
       "    .dataframe tbody tr th:only-of-type {\n",
       "        vertical-align: middle;\n",
       "    }\n",
       "\n",
       "    .dataframe tbody tr th {\n",
       "        vertical-align: top;\n",
       "    }\n",
       "\n",
       "    .dataframe thead th {\n",
       "        text-align: right;\n",
       "    }\n",
       "</style>\n",
       "<table border=\"1\" class=\"dataframe\">\n",
       "  <thead>\n",
       "    <tr style=\"text-align: right;\">\n",
       "      <th></th>\n",
       "      <th>listing_id</th>\n",
       "      <th>date</th>\n",
       "      <th>available</th>\n",
       "      <th>price</th>\n",
       "      <th>adjusted_price</th>\n",
       "      <th>minimum_nights</th>\n",
       "      <th>maximum_nights</th>\n",
       "    </tr>\n",
       "  </thead>\n",
       "  <tbody>\n",
       "    <tr>\n",
       "      <th>0</th>\n",
       "      <td>2833161</td>\n",
       "      <td>2020-07-10</td>\n",
       "      <td>f</td>\n",
       "      <td>$140.00</td>\n",
       "      <td>$140.00</td>\n",
       "      <td>3.0</td>\n",
       "      <td>1125.0</td>\n",
       "    </tr>\n",
       "    <tr>\n",
       "      <th>1</th>\n",
       "      <td>2450249</td>\n",
       "      <td>2020-07-10</td>\n",
       "      <td>f</td>\n",
       "      <td>$285.00</td>\n",
       "      <td>$285.00</td>\n",
       "      <td>2.0</td>\n",
       "      <td>14.0</td>\n",
       "    </tr>\n",
       "    <tr>\n",
       "      <th>2</th>\n",
       "      <td>2450249</td>\n",
       "      <td>2020-07-11</td>\n",
       "      <td>f</td>\n",
       "      <td>$285.00</td>\n",
       "      <td>$285.00</td>\n",
       "      <td>2.0</td>\n",
       "      <td>14.0</td>\n",
       "    </tr>\n",
       "    <tr>\n",
       "      <th>3</th>\n",
       "      <td>2450249</td>\n",
       "      <td>2020-07-12</td>\n",
       "      <td>f</td>\n",
       "      <td>$386.00</td>\n",
       "      <td>$386.00</td>\n",
       "      <td>2.0</td>\n",
       "      <td>14.0</td>\n",
       "    </tr>\n",
       "    <tr>\n",
       "      <th>4</th>\n",
       "      <td>2450249</td>\n",
       "      <td>2020-07-13</td>\n",
       "      <td>f</td>\n",
       "      <td>$225.00</td>\n",
       "      <td>$225.00</td>\n",
       "      <td>2.0</td>\n",
       "      <td>14.0</td>\n",
       "    </tr>\n",
       "  </tbody>\n",
       "</table>\n",
       "</div>"
      ],
      "text/plain": [
       "   listing_id        date available    price adjusted_price  minimum_nights  \\\n",
       "0     2833161  2020-07-10         f  $140.00        $140.00             3.0   \n",
       "1     2450249  2020-07-10         f  $285.00        $285.00             2.0   \n",
       "2     2450249  2020-07-11         f  $285.00        $285.00             2.0   \n",
       "3     2450249  2020-07-12         f  $386.00        $386.00             2.0   \n",
       "4     2450249  2020-07-13         f  $225.00        $225.00             2.0   \n",
       "\n",
       "   maximum_nights  \n",
       "0          1125.0  \n",
       "1            14.0  \n",
       "2            14.0  \n",
       "3            14.0  \n",
       "4            14.0  "
      ]
     },
     "execution_count": 86,
     "metadata": {},
     "output_type": "execute_result"
    }
   ],
   "source": [
    "calendar_0720_0721.head()"
   ]
  },
  {
   "cell_type": "code",
   "execution_count": 87,
   "id": "e3f16578",
   "metadata": {},
   "outputs": [
    {
     "name": "stdout",
     "output_type": "stream",
     "text": [
      "<class 'pandas.core.frame.DataFrame'>\n",
      "RangeIndex: 7099729 entries, 0 to 7099728\n",
      "Data columns (total 7 columns):\n",
      " #   Column          Dtype  \n",
      "---  ------          -----  \n",
      " 0   listing_id      int64  \n",
      " 1   date            object \n",
      " 2   available       object \n",
      " 3   price           object \n",
      " 4   adjusted_price  object \n",
      " 5   minimum_nights  float64\n",
      " 6   maximum_nights  float64\n",
      "dtypes: float64(2), int64(1), object(4)\n",
      "memory usage: 379.2+ MB\n"
     ]
    }
   ],
   "source": [
    "calendar_0720_0721.info()"
   ]
  },
  {
   "cell_type": "code",
   "execution_count": 93,
   "id": "efd88a90",
   "metadata": {},
   "outputs": [],
   "source": [
    "calendar_0720_0721[\"date\"] = pd.to_datetime(calendar_0320_0321[\"date\"])"
   ]
  },
  {
   "cell_type": "code",
   "execution_count": 89,
   "id": "2e9412b3",
   "metadata": {},
   "outputs": [
    {
     "data": {
      "text/plain": [
       "Timestamp('2020-07-09 00:00:00')"
      ]
     },
     "execution_count": 89,
     "metadata": {},
     "output_type": "execute_result"
    }
   ],
   "source": [
    "calendar_0720_0721[\"date\"].min()"
   ]
  },
  {
   "cell_type": "code",
   "execution_count": 90,
   "id": "d0017616",
   "metadata": {},
   "outputs": [
    {
     "data": {
      "text/plain": [
       "Timestamp('2021-07-26 00:00:00')"
      ]
     },
     "execution_count": 90,
     "metadata": {},
     "output_type": "execute_result"
    }
   ],
   "source": [
    "calendar_0720_0721[\"date\"].max()"
   ]
  },
  {
   "cell_type": "code",
   "execution_count": 91,
   "id": "f652fc0a",
   "metadata": {},
   "outputs": [
    {
     "name": "stdout",
     "output_type": "stream",
     "text": [
      "<class 'pandas.core.frame.DataFrame'>\n",
      "RangeIndex: 7099729 entries, 0 to 7099728\n",
      "Data columns (total 7 columns):\n",
      " #   Column          Dtype         \n",
      "---  ------          -----         \n",
      " 0   listing_id      int64         \n",
      " 1   date            datetime64[ns]\n",
      " 2   available       object        \n",
      " 3   price           object        \n",
      " 4   adjusted_price  object        \n",
      " 5   minimum_nights  float64       \n",
      " 6   maximum_nights  float64       \n",
      "dtypes: datetime64[ns](1), float64(2), int64(1), object(3)\n",
      "memory usage: 379.2+ MB\n"
     ]
    }
   ],
   "source": [
    "calendar_0720_0721.info()"
   ]
  },
  {
   "cell_type": "code",
   "execution_count": null,
   "id": "7404d83e",
   "metadata": {},
   "outputs": [],
   "source": [
    "#We have info of the prices from 2020-07-09 till 2021-07-26"
   ]
  },
  {
   "cell_type": "code",
   "execution_count": 79,
   "id": "345ac461",
   "metadata": {},
   "outputs": [],
   "source": [
    "calendar_0320_0321 = pd.read_csv(\"../data/calendar_march20_march21.csv\")"
   ]
  },
  {
   "cell_type": "code",
   "execution_count": 80,
   "id": "37fe788f",
   "metadata": {},
   "outputs": [],
   "source": [
    "calendar_0320_0321[\"date\"] = pd.to_datetime(calendar_0320_0321[\"date\"])"
   ]
  },
  {
   "cell_type": "code",
   "execution_count": 81,
   "id": "73a1440f",
   "metadata": {},
   "outputs": [
    {
     "data": {
      "text/plain": [
       "Timestamp('2020-03-13 00:00:00')"
      ]
     },
     "execution_count": 81,
     "metadata": {},
     "output_type": "execute_result"
    }
   ],
   "source": [
    "calendar_0320_0321[\"date\"].min()"
   ]
  },
  {
   "cell_type": "code",
   "execution_count": 82,
   "id": "924effce",
   "metadata": {},
   "outputs": [
    {
     "data": {
      "text/plain": [
       "Timestamp('2021-03-13 00:00:00')"
      ]
     },
     "execution_count": 82,
     "metadata": {},
     "output_type": "execute_result"
    }
   ],
   "source": [
    "calendar_0320_0321[\"date\"].max()"
   ]
  },
  {
   "cell_type": "code",
   "execution_count": 100,
   "id": "3dbed2a8",
   "metadata": {},
   "outputs": [],
   "source": [
    "calendar_0320_0820 = calendar_0320_0321[calendar_0320_0321[\"date\"] < \"2020-07-09\"]"
   ]
  },
  {
   "cell_type": "code",
   "execution_count": 103,
   "id": "fae55dfa",
   "metadata": {},
   "outputs": [
    {
     "data": {
      "text/plain": [
       "Timestamp('2020-03-13 00:00:00')"
      ]
     },
     "execution_count": 103,
     "metadata": {},
     "output_type": "execute_result"
    }
   ],
   "source": [
    "calendar_0320_0721 = pd.concat([calendar_0320_0820,calendar_0720_0721])\n",
    "calendar_0320_0721[\"date\"].min()"
   ]
  },
  {
   "cell_type": "code",
   "execution_count": 104,
   "id": "1b30c78e",
   "metadata": {},
   "outputs": [
    {
     "data": {
      "text/plain": [
       "Timestamp('2021-07-26 00:00:00')"
      ]
     },
     "execution_count": 104,
     "metadata": {},
     "output_type": "execute_result"
    }
   ],
   "source": [
    "calendar_0320_0721[\"date\"].max()"
   ]
  },
  {
   "cell_type": "code",
   "execution_count": 106,
   "id": "4963044b",
   "metadata": {},
   "outputs": [],
   "source": [
    "calendar_0320_0721['year']= calendar_0320_0721[\"date\"].dt.year\n",
    "calendar_0320_0721['month']= calendar_0320_0721[\"date\"].dt.month\n",
    "calendar_0320_0721['day']= calendar_0320_0721[\"date\"].dt.day\n",
    "calendar_0320_0721['day_of_week'] = calendar_0320_0721[\"date\"].dt.dayofweek\n",
    "\n",
    "dw_mapping={\n",
    "    0: 'Monday', \n",
    "    1: 'Tuesday', \n",
    "    2: 'Wednesday', \n",
    "    3: 'Thursday', \n",
    "    4: 'Friday',\n",
    "    5: 'Saturday', \n",
    "    6: 'Sunday'\n",
    "} \n",
    "calendar_0320_0721['day_of_week']=calendar_0320_0721[\"date\"].dt.weekday.map(dw_mapping)"
   ]
  },
  {
   "cell_type": "code",
   "execution_count": 107,
   "id": "c15c052b",
   "metadata": {},
   "outputs": [
    {
     "data": {
      "text/html": [
       "<div>\n",
       "<style scoped>\n",
       "    .dataframe tbody tr th:only-of-type {\n",
       "        vertical-align: middle;\n",
       "    }\n",
       "\n",
       "    .dataframe tbody tr th {\n",
       "        vertical-align: top;\n",
       "    }\n",
       "\n",
       "    .dataframe thead th {\n",
       "        text-align: right;\n",
       "    }\n",
       "</style>\n",
       "<table border=\"1\" class=\"dataframe\">\n",
       "  <thead>\n",
       "    <tr style=\"text-align: right;\">\n",
       "      <th></th>\n",
       "      <th>listing_id</th>\n",
       "      <th>date</th>\n",
       "      <th>available</th>\n",
       "      <th>price</th>\n",
       "      <th>adjusted_price</th>\n",
       "      <th>minimum_nights</th>\n",
       "      <th>maximum_nights</th>\n",
       "      <th>year</th>\n",
       "      <th>month</th>\n",
       "      <th>day</th>\n",
       "      <th>day_of_week</th>\n",
       "    </tr>\n",
       "  </thead>\n",
       "  <tbody>\n",
       "    <tr>\n",
       "      <th>0</th>\n",
       "      <td>52490</td>\n",
       "      <td>2020-03-14</td>\n",
       "      <td>f</td>\n",
       "      <td>$75.00</td>\n",
       "      <td>$75.00</td>\n",
       "      <td>2.0</td>\n",
       "      <td>80.0</td>\n",
       "      <td>2020</td>\n",
       "      <td>3</td>\n",
       "      <td>14</td>\n",
       "      <td>Saturday</td>\n",
       "    </tr>\n",
       "    <tr>\n",
       "      <th>1</th>\n",
       "      <td>2818</td>\n",
       "      <td>2020-03-14</td>\n",
       "      <td>f</td>\n",
       "      <td>$69.00</td>\n",
       "      <td>$69.00</td>\n",
       "      <td>3.0</td>\n",
       "      <td>1125.0</td>\n",
       "      <td>2020</td>\n",
       "      <td>3</td>\n",
       "      <td>14</td>\n",
       "      <td>Saturday</td>\n",
       "    </tr>\n",
       "    <tr>\n",
       "      <th>2</th>\n",
       "      <td>2818</td>\n",
       "      <td>2020-03-15</td>\n",
       "      <td>t</td>\n",
       "      <td>$69.00</td>\n",
       "      <td>$69.00</td>\n",
       "      <td>3.0</td>\n",
       "      <td>1125.0</td>\n",
       "      <td>2020</td>\n",
       "      <td>3</td>\n",
       "      <td>15</td>\n",
       "      <td>Sunday</td>\n",
       "    </tr>\n",
       "    <tr>\n",
       "      <th>3</th>\n",
       "      <td>2818</td>\n",
       "      <td>2020-03-16</td>\n",
       "      <td>t</td>\n",
       "      <td>$59.00</td>\n",
       "      <td>$59.00</td>\n",
       "      <td>3.0</td>\n",
       "      <td>1125.0</td>\n",
       "      <td>2020</td>\n",
       "      <td>3</td>\n",
       "      <td>16</td>\n",
       "      <td>Monday</td>\n",
       "    </tr>\n",
       "    <tr>\n",
       "      <th>4</th>\n",
       "      <td>2818</td>\n",
       "      <td>2020-03-17</td>\n",
       "      <td>t</td>\n",
       "      <td>$59.00</td>\n",
       "      <td>$59.00</td>\n",
       "      <td>3.0</td>\n",
       "      <td>1125.0</td>\n",
       "      <td>2020</td>\n",
       "      <td>3</td>\n",
       "      <td>17</td>\n",
       "      <td>Tuesday</td>\n",
       "    </tr>\n",
       "  </tbody>\n",
       "</table>\n",
       "</div>"
      ],
      "text/plain": [
       "   listing_id       date available   price adjusted_price  minimum_nights  \\\n",
       "0       52490 2020-03-14         f  $75.00         $75.00             2.0   \n",
       "1        2818 2020-03-14         f  $69.00         $69.00             3.0   \n",
       "2        2818 2020-03-15         t  $69.00         $69.00             3.0   \n",
       "3        2818 2020-03-16         t  $59.00         $59.00             3.0   \n",
       "4        2818 2020-03-17         t  $59.00         $59.00             3.0   \n",
       "\n",
       "   maximum_nights  year  month  day day_of_week  \n",
       "0            80.0  2020      3   14    Saturday  \n",
       "1          1125.0  2020      3   14    Saturday  \n",
       "2          1125.0  2020      3   15      Sunday  \n",
       "3          1125.0  2020      3   16      Monday  \n",
       "4          1125.0  2020      3   17     Tuesday  "
      ]
     },
     "execution_count": 107,
     "metadata": {},
     "output_type": "execute_result"
    }
   ],
   "source": [
    "calendar_0320_0721.head()"
   ]
  },
  {
   "cell_type": "markdown",
   "id": "211b912e",
   "metadata": {},
   "source": [
    "## 3.2. Calendar 2019"
   ]
  },
  {
   "cell_type": "code",
   "execution_count": 105,
   "id": "09524ecb",
   "metadata": {},
   "outputs": [],
   "source": [
    "calendar_1218_1219 = pd.read_csv(\"../data/calendar_dec18_dec19.csv\")"
   ]
  },
  {
   "cell_type": "code",
   "execution_count": 108,
   "id": "7445bc16",
   "metadata": {},
   "outputs": [],
   "source": [
    "calendar_1218_1219 [\"date\"] = pd.to_datetime(calendar_1218_1219 [\"date\"])"
   ]
  },
  {
   "cell_type": "code",
   "execution_count": 109,
   "id": "3d79abbd",
   "metadata": {},
   "outputs": [],
   "source": [
    "calendar_1218_1219['year']= calendar_1218_1219[\"date\"].dt.year\n",
    "calendar_1218_1219['month']= calendar_1218_1219[\"date\"].dt.month\n",
    "calendar_1218_1219['day']= calendar_1218_1219[\"date\"].dt.day\n",
    "calendar_1218_1219['day_of_week'] = calendar_1218_1219[\"date\"].dt.dayofweek\n",
    "\n",
    "dw_mapping={\n",
    "    0: 'Monday', \n",
    "    1: 'Tuesday', \n",
    "    2: 'Wednesday', \n",
    "    3: 'Thursday', \n",
    "    4: 'Friday',\n",
    "    5: 'Saturday', \n",
    "    6: 'Sunday'\n",
    "} \n",
    "calendar_1218_1219['day_of_week']=calendar_1218_1219[\"date\"].dt.weekday.map(dw_mapping)"
   ]
  },
  {
   "cell_type": "code",
   "execution_count": 110,
   "id": "97f8dad9",
   "metadata": {},
   "outputs": [
    {
     "data": {
      "text/html": [
       "<div>\n",
       "<style scoped>\n",
       "    .dataframe tbody tr th:only-of-type {\n",
       "        vertical-align: middle;\n",
       "    }\n",
       "\n",
       "    .dataframe tbody tr th {\n",
       "        vertical-align: top;\n",
       "    }\n",
       "\n",
       "    .dataframe thead th {\n",
       "        text-align: right;\n",
       "    }\n",
       "</style>\n",
       "<table border=\"1\" class=\"dataframe\">\n",
       "  <thead>\n",
       "    <tr style=\"text-align: right;\">\n",
       "      <th></th>\n",
       "      <th>listing_id</th>\n",
       "      <th>date</th>\n",
       "      <th>available</th>\n",
       "      <th>price</th>\n",
       "      <th>year</th>\n",
       "      <th>month</th>\n",
       "      <th>day</th>\n",
       "      <th>day_of_week</th>\n",
       "    </tr>\n",
       "  </thead>\n",
       "  <tbody>\n",
       "    <tr>\n",
       "      <th>0</th>\n",
       "      <td>2818</td>\n",
       "      <td>2019-12-05</td>\n",
       "      <td>f</td>\n",
       "      <td>NaN</td>\n",
       "      <td>2019</td>\n",
       "      <td>12</td>\n",
       "      <td>5</td>\n",
       "      <td>Thursday</td>\n",
       "    </tr>\n",
       "    <tr>\n",
       "      <th>1</th>\n",
       "      <td>73208</td>\n",
       "      <td>2019-08-30</td>\n",
       "      <td>f</td>\n",
       "      <td>NaN</td>\n",
       "      <td>2019</td>\n",
       "      <td>8</td>\n",
       "      <td>30</td>\n",
       "      <td>Friday</td>\n",
       "    </tr>\n",
       "    <tr>\n",
       "      <th>2</th>\n",
       "      <td>73208</td>\n",
       "      <td>2019-08-29</td>\n",
       "      <td>f</td>\n",
       "      <td>NaN</td>\n",
       "      <td>2019</td>\n",
       "      <td>8</td>\n",
       "      <td>29</td>\n",
       "      <td>Thursday</td>\n",
       "    </tr>\n",
       "    <tr>\n",
       "      <th>3</th>\n",
       "      <td>73208</td>\n",
       "      <td>2019-08-28</td>\n",
       "      <td>f</td>\n",
       "      <td>NaN</td>\n",
       "      <td>2019</td>\n",
       "      <td>8</td>\n",
       "      <td>28</td>\n",
       "      <td>Wednesday</td>\n",
       "    </tr>\n",
       "    <tr>\n",
       "      <th>4</th>\n",
       "      <td>73208</td>\n",
       "      <td>2019-08-27</td>\n",
       "      <td>f</td>\n",
       "      <td>NaN</td>\n",
       "      <td>2019</td>\n",
       "      <td>8</td>\n",
       "      <td>27</td>\n",
       "      <td>Tuesday</td>\n",
       "    </tr>\n",
       "  </tbody>\n",
       "</table>\n",
       "</div>"
      ],
      "text/plain": [
       "   listing_id       date available price  year  month  day day_of_week\n",
       "0        2818 2019-12-05         f   NaN  2019     12    5    Thursday\n",
       "1       73208 2019-08-30         f   NaN  2019      8   30      Friday\n",
       "2       73208 2019-08-29         f   NaN  2019      8   29    Thursday\n",
       "3       73208 2019-08-28         f   NaN  2019      8   28   Wednesday\n",
       "4       73208 2019-08-27         f   NaN  2019      8   27     Tuesday"
      ]
     },
     "execution_count": 110,
     "metadata": {},
     "output_type": "execute_result"
    }
   ],
   "source": [
    "calendar_1218_1219.head()"
   ]
  },
  {
   "cell_type": "markdown",
   "id": "61cf45bc",
   "metadata": {},
   "source": []
  }
 ],
 "metadata": {
  "kernelspec": {
   "display_name": "Laura1Env",
   "language": "python",
   "name": "laura1env"
  },
  "language_info": {
   "codemirror_mode": {
    "name": "ipython",
    "version": 3
   },
   "file_extension": ".py",
   "mimetype": "text/x-python",
   "name": "python",
   "nbconvert_exporter": "python",
   "pygments_lexer": "ipython3",
   "version": "3.9.2"
  },
  "toc": {
   "base_numbering": 1,
   "nav_menu": {},
   "number_sections": false,
   "sideBar": true,
   "skip_h1_title": false,
   "title_cell": "Table of Contents",
   "title_sidebar": "Contents",
   "toc_cell": true,
   "toc_position": {},
   "toc_section_display": true,
   "toc_window_display": true
  }
 },
 "nbformat": 4,
 "nbformat_minor": 5
}
